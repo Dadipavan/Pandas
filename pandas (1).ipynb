{
 "cells": [
  {
   "cell_type": "code",
   "execution_count": 1,
   "id": "57647b5e-85b6-402c-bfb7-df46a1a601a3",
   "metadata": {},
   "outputs": [
    {
     "name": "stdout",
     "output_type": "stream",
     "text": [
      "Defaulting to user installation because normal site-packages is not writeable\n",
      "Requirement already satisfied: pandas in c:\\programdata\\anaconda3\\lib\\site-packages (2.0.3)\n",
      "Requirement already satisfied: python-dateutil>=2.8.2 in c:\\programdata\\anaconda3\\lib\\site-packages (from pandas) (2.8.2)\n",
      "Requirement already satisfied: pytz>=2020.1 in c:\\programdata\\anaconda3\\lib\\site-packages (from pandas) (2023.3.post1)\n",
      "Requirement already satisfied: tzdata>=2022.1 in c:\\programdata\\anaconda3\\lib\\site-packages (from pandas) (2023.3)\n",
      "Requirement already satisfied: numpy>=1.21.0 in c:\\users\\saip5\\appdata\\roaming\\python\\python311\\site-packages (from pandas) (1.26.4)\n",
      "Requirement already satisfied: six>=1.5 in c:\\programdata\\anaconda3\\lib\\site-packages (from python-dateutil>=2.8.2->pandas) (1.16.0)\n",
      "Note: you may need to restart the kernel to use updated packages.\n"
     ]
    }
   ],
   "source": [
    "pip install pandas"
   ]
  },
  {
   "cell_type": "code",
   "execution_count": 2,
   "id": "bede887c-473a-4747-bd72-e0d1139f4f60",
   "metadata": {},
   "outputs": [
    {
     "name": "stdout",
     "output_type": "stream",
     "text": [
      "Package                       Version\n",
      "----------------------------- ---------------\n",
      "absl-py                       2.1.0\n",
      "aiobotocore                   2.5.0\n",
      "aiofiles                      22.1.0\n",
      "aiohttp                       3.8.5\n",
      "aioitertools                  0.7.1\n",
      "aiosignal                     1.2.0\n",
      "aiosqlite                     0.18.0\n",
      "alabaster                     0.7.12\n",
      "anaconda-anon-usage           0.4.2\n",
      "anaconda-catalogs             0.2.0\n",
      "anaconda-client               1.12.1\n",
      "anaconda-cloud-auth           0.1.3\n",
      "anaconda-navigator            2.5.0\n",
      "anaconda-project              0.11.1\n",
      "anyio                         3.5.0\n",
      "appdirs                       1.4.4\n",
      "argon2-cffi                   21.3.0\n",
      "argon2-cffi-bindings          21.2.0\n",
      "arrow                         1.2.3\n",
      "asgiref                       3.8.1\n",
      "astroid                       2.14.2\n",
      "astropy                       5.1\n",
      "asttokens                     2.0.5\n",
      "astunparse                    1.6.3\n",
      "async-timeout                 4.0.2\n",
      "atomicwrites                  1.4.0\n",
      "attrs                         22.1.0\n",
      "Automat                       20.2.0\n",
      "autopep8                      1.6.0\n",
      "Babel                         2.11.0\n",
      "backcall                      0.2.0\n",
      "backports.functools-lru-cache 1.6.4\n",
      "backports.tempfile            1.0\n",
      "backports.weakref             1.0.post1\n",
      "bcrypt                        3.2.0\n",
      "beautifulsoup4                4.12.2\n",
      "binaryornot                   0.4.4\n",
      "black                         0.0\n",
      "bleach                        4.1.0\n",
      "bokeh                         3.2.1\n",
      "boltons                       23.0.0\n",
      "botocore                      1.29.76\n",
      "Bottleneck                    1.3.5\n",
      "brotlipy                      0.7.0\n",
      "catboost                      1.2.7\n",
      "certifi                       2023.7.22\n",
      "cffi                          1.15.1\n",
      "chardet                       4.0.0\n",
      "charset-normalizer            2.0.4\n",
      "click                         8.0.4\n",
      "cloudpickle                   2.2.1\n",
      "clyent                        1.2.2\n",
      "colorama                      0.4.6\n",
      "colorcet                      3.0.1\n",
      "comm                          0.1.2\n",
      "conda                         23.7.4\n",
      "conda-build                   3.26.1\n",
      "conda-content-trust           0.2.0\n",
      "conda_index                   0.3.0\n",
      "conda-libmamba-solver         23.7.0\n",
      "conda-pack                    0.6.0\n",
      "conda-package-handling        2.2.0\n",
      "conda_package_streaming       0.9.0\n",
      "conda-repo-cli                1.0.75\n",
      "conda-token                   0.4.0\n",
      "conda-verify                  3.4.2\n",
      "constantly                    15.1.0\n",
      "contourpy                     1.0.5\n",
      "cookiecutter                  1.7.3\n",
      "cryptography                  41.0.3\n",
      "cssselect                     1.1.0\n",
      "cycler                        0.11.0\n",
      "cytoolz                       0.12.0\n",
      "daal4py                       2023.1.1\n",
      "dask                          2023.6.0\n",
      "datasets                      2.12.0\n",
      "datashader                    0.15.2\n",
      "datashape                     0.5.4\n",
      "debugpy                       1.6.7\n",
      "decorator                     5.1.1\n",
      "defusedxml                    0.7.1\n",
      "diff-match-patch              20200713\n",
      "dill                          0.3.6\n",
      "distributed                   2023.6.0\n",
      "Django                        5.1.5\n",
      "docstring-to-markdown         0.11\n",
      "docutils                      0.18.1\n",
      "entrypoints                   0.4\n",
      "et-xmlfile                    1.1.0\n",
      "executing                     0.8.3\n",
      "fastjsonschema                2.16.2\n",
      "filelock                      3.9.0\n",
      "flake8                        6.0.0\n",
      "Flask                         2.2.2\n",
      "flatbuffers                   24.3.25\n",
      "fonttools                     4.25.0\n",
      "frozenlist                    1.3.3\n",
      "fsspec                        2023.4.0\n",
      "future                        0.18.3\n",
      "gast                          0.6.0\n",
      "gensim                        4.3.0\n",
      "glob2                         0.7\n",
      "google-pasta                  0.2.0\n",
      "graphviz                      0.20.3\n",
      "greenlet                      2.0.1\n",
      "grpcio                        1.68.1\n",
      "h5py                          3.12.1\n",
      "HeapDict                      1.0.1\n",
      "holoviews                     1.17.1\n",
      "huggingface-hub               0.15.1\n",
      "hvplot                        0.8.4\n",
      "hyperlink                     21.0.0\n",
      "idna                          3.4\n",
      "imagecodecs                   2023.1.23\n",
      "imageio                       2.26.0\n",
      "imagesize                     1.4.1\n",
      "imbalanced-learn              0.10.1\n",
      "importlib-metadata            6.0.0\n",
      "incremental                   21.3.0\n",
      "inflection                    0.5.1\n",
      "iniconfig                     1.1.1\n",
      "intake                        0.6.8\n",
      "intervaltree                  3.1.0\n",
      "ipykernel                     6.25.0\n",
      "ipython                       8.15.0\n",
      "ipython-genutils              0.2.0\n",
      "ipywidgets                    8.0.4\n",
      "isort                         5.9.3\n",
      "itemadapter                   0.3.0\n",
      "itemloaders                   1.0.4\n",
      "itsdangerous                  2.0.1\n",
      "jaraco.classes                3.2.1\n",
      "jedi                          0.18.1\n",
      "jellyfish                     1.0.1\n",
      "Jinja2                        3.1.2\n",
      "jinja2-time                   0.2.0\n",
      "jmespath                      0.10.0\n",
      "joblib                        1.2.0\n",
      "json5                         0.9.6\n",
      "jsonpatch                     1.32\n",
      "jsonpointer                   2.1\n",
      "jsonschema                    4.17.3\n",
      "jupyter                       1.0.0\n",
      "jupyter_client                7.4.9\n",
      "jupyter-console               6.6.3\n",
      "jupyter_core                  5.3.0\n",
      "jupyter-events                0.6.3\n",
      "jupyter-server                1.23.4\n",
      "jupyter_server_fileid         0.9.0\n",
      "jupyter_server_ydoc           0.8.0\n",
      "jupyter-ydoc                  0.2.4\n",
      "jupyterlab                    3.6.3\n",
      "jupyterlab-pygments           0.1.2\n",
      "jupyterlab_server             2.22.0\n",
      "jupyterlab-visualpython       3.0.2\n",
      "jupyterlab-widgets            3.0.5\n",
      "kaleido                       0.2.1\n",
      "keras                         3.7.0\n",
      "keyring                       23.13.1\n",
      "kiwisolver                    1.4.4\n",
      "lazy_loader                   0.2\n",
      "lazy-object-proxy             1.6.0\n",
      "libarchive-c                  2.9\n",
      "libclang                      18.1.1\n",
      "libmambapy                    1.5.1\n",
      "lightgbm                      4.5.0\n",
      "linkify-it-py                 2.0.0\n",
      "llvmlite                      0.40.0\n",
      "lmdb                          1.4.1\n",
      "locket                        1.0.0\n",
      "lxml                          4.9.3\n",
      "lz4                           4.3.2\n",
      "Markdown                      3.4.1\n",
      "markdown-it-py                2.2.0\n",
      "MarkupSafe                    2.1.1\n",
      "matplotlib                    3.7.2\n",
      "matplotlib-inline             0.1.6\n",
      "mccabe                        0.7.0\n",
      "mdit-py-plugins               0.3.0\n",
      "mdurl                         0.1.0\n",
      "menuinst                      1.4.19\n",
      "mistune                       0.8.4\n",
      "mkl-fft                       1.3.8\n",
      "mkl-random                    1.2.4\n",
      "mkl-service                   2.4.0\n",
      "ml-dtypes                     0.4.1\n",
      "more-itertools                8.12.0\n",
      "mpmath                        1.3.0\n",
      "msgpack                       1.0.3\n",
      "multidict                     6.0.2\n",
      "multipledispatch              0.6.0\n",
      "multiprocess                  0.70.14\n",
      "munkres                       1.1.4\n",
      "mypy-extensions               1.0.0\n",
      "namex                         0.0.8\n",
      "navigator-updater             0.4.0\n",
      "nbclassic                     0.5.5\n",
      "nbclient                      0.5.13\n",
      "nbconvert                     6.5.4\n",
      "nbformat                      5.9.2\n",
      "nest-asyncio                  1.5.6\n",
      "networkx                      3.1\n",
      "nltk                          3.8.1\n",
      "notebook                      6.5.4\n",
      "notebook_shim                 0.2.2\n",
      "numba                         0.57.1\n",
      "numexpr                       2.8.4\n",
      "numpy                         1.26.4\n",
      "numpydoc                      1.5.0\n",
      "opencv-python                 4.11.0.86\n",
      "openpyxl                      3.0.10\n",
      "opt_einsum                    3.4.0\n",
      "optree                        0.13.1\n",
      "packaging                     23.1\n",
      "pandas                        2.0.3\n",
      "pandocfilters                 1.5.0\n",
      "panel                         1.2.3\n",
      "param                         1.13.0\n",
      "paramiko                      2.8.1\n",
      "parsel                        1.6.0\n",
      "parso                         0.8.3\n",
      "partd                         1.4.0\n",
      "pathlib                       1.0.1\n",
      "pathspec                      0.10.3\n",
      "patsy                         0.5.3\n",
      "pep8                          1.7.1\n",
      "pexpect                       4.8.0\n",
      "pickleshare                   0.7.5\n",
      "Pillow                        9.4.0\n",
      "pip                           23.2.1\n",
      "pkce                          1.0.3\n",
      "pkginfo                       1.9.6\n",
      "platformdirs                  3.10.0\n",
      "plotly                        5.9.0\n",
      "pluggy                        1.0.0\n",
      "ply                           3.11\n",
      "poyo                          0.5.0\n",
      "prometheus-client             0.14.1\n",
      "prompt-toolkit                3.0.36\n",
      "Protego                       0.1.16\n",
      "protobuf                      5.29.0\n",
      "psutil                        5.9.0\n",
      "ptyprocess                    0.7.0\n",
      "pure-eval                     0.2.2\n",
      "py-cpuinfo                    8.0.0\n",
      "pyarrow                       11.0.0\n",
      "pyasn1                        0.4.8\n",
      "pyasn1-modules                0.2.8\n",
      "pycodestyle                   2.10.0\n",
      "pycosat                       0.6.4\n",
      "pycparser                     2.21\n",
      "pyct                          0.5.0\n",
      "pycurl                        7.45.2\n",
      "pydantic                      1.10.8\n",
      "PyDispatcher                  2.0.5\n",
      "pydocstyle                    6.3.0\n",
      "pyerfa                        2.0.0\n",
      "pyflakes                      3.0.1\n",
      "Pygments                      2.15.1\n",
      "PyJWT                         2.4.0\n",
      "pylint                        2.16.2\n",
      "pylint-venv                   2.3.0\n",
      "pyls-spyder                   0.4.0\n",
      "PyNaCl                        1.5.0\n",
      "pyodbc                        4.0.34\n",
      "pyOpenSSL                     23.2.0\n",
      "pyparsing                     3.0.9\n",
      "pyperclip                     1.9.0\n",
      "PyQt5                         5.15.7\n",
      "PyQt5-sip                     12.11.0\n",
      "PyQtWebEngine                 5.15.4\n",
      "pyrsistent                    0.18.0\n",
      "PySocks                       1.7.1\n",
      "pytest                        7.4.0\n",
      "python-dateutil               2.8.2\n",
      "python-dotenv                 0.21.0\n",
      "python-json-logger            2.0.7\n",
      "python-lsp-black              1.2.1\n",
      "python-lsp-jsonrpc            1.0.0\n",
      "python-lsp-server             1.7.2\n",
      "python-slugify                5.0.2\n",
      "python-snappy                 0.6.1\n",
      "pytoolconfig                  1.2.5\n",
      "pytz                          2023.3.post1\n",
      "pyviz-comms                   2.3.0\n",
      "PyWavelets                    1.4.1\n",
      "pywin32                       305.1\n",
      "pywin32-ctypes                0.2.0\n",
      "pywinpty                      2.0.10\n",
      "PyYAML                        6.0\n",
      "pyzmq                         23.2.0\n",
      "QDarkStyle                    3.0.2\n",
      "qstylizer                     0.2.2\n",
      "QtAwesome                     1.2.2\n",
      "qtconsole                     5.4.2\n",
      "QtPy                          2.2.0\n",
      "queuelib                      1.5.0\n",
      "readchar                      4.2.1\n",
      "regex                         2022.7.9\n",
      "requests                      2.31.0\n",
      "requests-file                 1.5.1\n",
      "requests-toolbelt             1.0.0\n",
      "responses                     0.13.3\n",
      "rfc3339-validator             0.1.4\n",
      "rfc3986-validator             0.1.1\n",
      "rich                          13.9.4\n",
      "rope                          1.7.0\n",
      "Rtree                         1.0.1\n",
      "ruamel.yaml                   0.17.21\n",
      "ruamel-yaml-conda             0.17.21\n",
      "s3fs                          2023.4.0\n",
      "safetensors                   0.3.2\n",
      "scikit-image                  0.20.0\n",
      "scikit-learn                  1.3.0\n",
      "scikit-learn-intelex          20230426.121932\n",
      "scipy                         1.11.1\n",
      "Scrapy                        2.8.0\n",
      "seaborn                       0.12.2\n",
      "Send2Trash                    1.8.0\n",
      "service-identity              18.1.0\n",
      "setuptools                    68.0.0\n",
      "sip                           6.6.2\n",
      "six                           1.16.0\n",
      "smart-open                    5.2.1\n",
      "sniffio                       1.2.0\n",
      "snowballstemmer               2.2.0\n",
      "sortedcontainers              2.4.0\n",
      "soupsieve                     2.4\n",
      "Sphinx                        5.0.2\n",
      "sphinxcontrib-applehelp       1.0.2\n",
      "sphinxcontrib-devhelp         1.0.2\n",
      "sphinxcontrib-htmlhelp        2.0.0\n",
      "sphinxcontrib-jsmath          1.0.1\n",
      "sphinxcontrib-qthelp          1.0.3\n",
      "sphinxcontrib-serializinghtml 1.1.5\n",
      "spyder                        5.4.3\n",
      "spyder-kernels                2.4.4\n",
      "SQLAlchemy                    1.4.39\n",
      "sqlparse                      0.5.3\n",
      "stack-data                    0.2.0\n",
      "statsmodels                   0.14.0\n",
      "sympy                         1.13.1\n",
      "tables                        3.8.0\n",
      "tabulate                      0.8.10\n",
      "TBB                           0.2\n",
      "tblib                         1.7.0\n",
      "tenacity                      8.2.2\n",
      "tensorboard                   2.18.0\n",
      "tensorboard-data-server       0.7.2\n",
      "tensorflow                    2.18.0\n",
      "tensorflow_intel              2.18.0\n",
      "tensorflow-io-gcs-filesystem  0.31.0\n",
      "termcolor                     2.5.0\n",
      "terminado                     0.17.1\n",
      "text-unidecode                1.3\n",
      "textdistance                  4.2.1\n",
      "threadpoolctl                 2.2.0\n",
      "three-merge                   0.1.1\n",
      "tifffile                      2023.4.12\n",
      "tinycss2                      1.2.1\n",
      "tldextract                    3.2.0\n",
      "tokenizers                    0.13.2\n",
      "toml                          0.10.2\n",
      "tomlkit                       0.11.1\n",
      "toolz                         0.12.0\n",
      "torch                         2.5.1\n",
      "torchvision                   0.20.1\n",
      "tornado                       6.3.2\n",
      "tqdm                          4.65.0\n",
      "traitlets                     5.7.1\n",
      "transformers                  4.32.1\n",
      "Twisted                       22.10.0\n",
      "twisted-iocpsupport           1.0.2\n",
      "typing_extensions             4.12.2\n",
      "tzdata                        2023.3\n",
      "uc-micro-py                   1.0.1\n",
      "ujson                         5.4.0\n",
      "Unidecode                     1.2.0\n",
      "urllib3                       1.26.16\n",
      "VisualPy                      1.0.1\n",
      "visualpython                  3.0.2\n",
      "w3lib                         1.21.0\n",
      "watchdog                      2.1.6\n",
      "wcwidth                       0.2.5\n",
      "webencodings                  0.5.1\n",
      "websocket-client              0.58.0\n",
      "Werkzeug                      2.2.3\n",
      "whatthepatch                  1.0.2\n",
      "wheel                         0.38.4\n",
      "widgetsnbextension            4.0.5\n",
      "win-inet-pton                 1.1.0\n",
      "wrapt                         1.14.1\n",
      "xarray                        2023.6.0\n",
      "xgboost                       2.1.3\n",
      "xlwings                       0.29.1\n",
      "xxhash                        2.0.2\n",
      "xyzservices                   2022.9.0\n",
      "y-py                          0.5.9\n",
      "yapf                          0.31.0\n",
      "yarl                          1.8.1\n",
      "ypy-websocket                 0.8.2\n",
      "zict                          2.2.0\n",
      "zipp                          3.11.0\n",
      "zope.interface                5.4.0\n",
      "zstandard                     0.19.0\n",
      "Note: you may need to restart the kernel to use updated packages.\n"
     ]
    }
   ],
   "source": [
    "pip list"
   ]
  },
  {
   "cell_type": "code",
   "execution_count": 3,
   "id": "95939c57-86ec-4556-8796-bc3edacf2b30",
   "metadata": {},
   "outputs": [
    {
     "name": "stdout",
     "output_type": "stream",
     "text": [
      "2.0.3\n"
     ]
    }
   ],
   "source": [
    "import pandas as pd\n",
    "print(pd.__version__)"
   ]
  },
  {
   "cell_type": "markdown",
   "id": "c3e01650-1f74-4d16-bdcb-4b6bba8c5002",
   "metadata": {},
   "source": [
    "<h3>DataFrame Creation</h3>"
   ]
  },
  {
   "cell_type": "code",
   "execution_count": 4,
   "id": "4ad9527a-e4e6-4335-a452-4c92650754b2",
   "metadata": {},
   "outputs": [
    {
     "name": "stdout",
     "output_type": "stream",
     "text": [
      "   A  B\n",
      "0  1  2\n",
      "1  2  4\n",
      "2  3  6\n",
      "3  4  7\n"
     ]
    }
   ],
   "source": [
    "df=pd.DataFrame({'A':[1,2,3,4],'B':[2,4,6,7]})\n",
    "print(df)"
   ]
  },
  {
   "cell_type": "code",
   "execution_count": 5,
   "id": "eb4a9e36-b8ca-401d-957f-9c01f34252d4",
   "metadata": {},
   "outputs": [
    {
     "name": "stdout",
     "output_type": "stream",
     "text": [
      "      ID   Name\n",
      "row1   1  temp1\n",
      "row2  23  temp2\n"
     ]
    }
   ],
   "source": [
    "data=[[1,'temp1'],[23,'temp2']]\n",
    "df=pd.DataFrame(columns=['ID','Name'], index=['row1','row2'],data=data)\n",
    "print(df)"
   ]
  },
  {
   "cell_type": "code",
   "execution_count": 6,
   "id": "926c76ee-381c-411b-9fce-76a024f7b451",
   "metadata": {},
   "outputs": [
    {
     "name": "stdout",
     "output_type": "stream",
     "text": [
      "0    1.0\n",
      "1    2.0\n",
      "2    2.0\n",
      "3    2.0\n",
      "4    NaN\n",
      "5    2.0\n",
      "6    2.0\n",
      "dtype: float64\n"
     ]
    }
   ],
   "source": [
    "s=pd.Series([1,2,2,2,None,2,2])\n",
    "print(s)"
   ]
  },
  {
   "cell_type": "code",
   "execution_count": 7,
   "id": "3da6718c-5d69-4fc0-b35e-5a513eb40854",
   "metadata": {},
   "outputs": [
    {
     "name": "stdout",
     "output_type": "stream",
     "text": [
      "temp0    1.0\n",
      "temp1    2.0\n",
      "temp2    2.0\n",
      "temp3    2.0\n",
      "temp4    NaN\n",
      "temp5    2.0\n",
      "temp6    2.0\n",
      "dtype: float64\n"
     ]
    }
   ],
   "source": [
    "s=pd.Series([1,2,2,2,None,2,2],index=['temp'+str(i) for i in range(7)])\n",
    "print(s)"
   ]
  },
  {
   "cell_type": "markdown",
   "id": "ecdcb14c-7df2-4c8c-b847-c82d1361d001",
   "metadata": {},
   "source": [
    "join: How to handle indexes on the other axis:\n",
    "'outer' (default): Union of the columns/rows (like a full outer join).\n",
    "'inner': Intersection of the columns/rows (like an inner join).\n"
   ]
  },
  {
   "cell_type": "code",
   "execution_count": 8,
   "id": "1164deec-1f54-4de9-bc40-480737209d56",
   "metadata": {},
   "outputs": [
    {
     "name": "stdout",
     "output_type": "stream",
     "text": [
      "   A  A\n",
      "0  1  3\n",
      "1  2  5\n"
     ]
    }
   ],
   "source": [
    "df1=pd.DataFrame({'A':[1,2]})\n",
    "df2=pd.DataFrame({'A':[3,5]})  \n",
    "df_combined=pd.concat([df1,df2], axis=1)  #syntax: pd.concat(obj, axis=0/1, join='outer')\n",
    "print(df_combined)"
   ]
  },
  {
   "cell_type": "code",
   "execution_count": 9,
   "id": "f6ef0e15-8660-4733-a08e-feed9753af7f",
   "metadata": {},
   "outputs": [
    {
     "name": "stdout",
     "output_type": "stream",
     "text": [
      "     A  B    C\n",
      "0  1.0  3  NaN\n",
      "1  2.0  4  NaN\n",
      "0  NaN  5  7.0\n",
      "1  NaN  6  8.0\n"
     ]
    }
   ],
   "source": [
    "import pandas as pd\n",
    "\n",
    "df1 = pd.DataFrame({\n",
    "    'A': [1, 2],\n",
    "    'B': [3, 4]\n",
    "})\n",
    "df2 = pd.DataFrame({\n",
    "    'B': [5, 6],\n",
    "    'C': [7, 8]\n",
    "})\n",
    "# Concatenate with join='outer' (default)\n",
    "result = pd.concat([df1, df2], axis=0, join='outer') \n",
    "print(result)\n"
   ]
  },
  {
   "cell_type": "code",
   "execution_count": 10,
   "id": "4d6d8224-faaa-43dd-941d-86f59361d5eb",
   "metadata": {},
   "outputs": [
    {
     "name": "stdout",
     "output_type": "stream",
     "text": [
      "   B\n",
      "0  3\n",
      "1  4\n",
      "0  5\n",
      "1  6\n"
     ]
    }
   ],
   "source": [
    "result_inner = pd.concat([df1, df2], axis=0, join='inner')\n",
    "print(result_inner)"
   ]
  },
  {
   "cell_type": "code",
   "execution_count": 11,
   "id": "32a1b028-61d6-4511-8274-560a4c0bc1b1",
   "metadata": {},
   "outputs": [
    {
     "name": "stdout",
     "output_type": "stream",
     "text": [
      "   A  B  A  C\n",
      "0  1  5  2  6\n"
     ]
    }
   ],
   "source": [
    "df1 = pd.DataFrame({'A': [1], 'B': [5]})\n",
    "df2 = pd.DataFrame({'A': [2], 'C': [6]})\n",
    "df_combined=pd.concat([df1,df2],axis=1,join='outer')\n",
    "print(df_combined)"
   ]
  },
  {
   "cell_type": "code",
   "execution_count": 12,
   "id": "aed712ef-cd42-43b2-9b46-ab71301dfa2b",
   "metadata": {},
   "outputs": [
    {
     "name": "stdout",
     "output_type": "stream",
     "text": [
      "  key  A  B\n",
      "0  K0  1  3\n",
      "1  K1  2  4\n"
     ]
    }
   ],
   "source": [
    "#pd.merge() combines dataframe using sql style joins (eg., inner, outer, left, right) based on the key\n",
    "df1 = pd.DataFrame({'key': ['K0', 'K1'], 'A': [1, 2]})\n",
    "df2 = pd.DataFrame({'key': ['K0', 'K1'], 'B': [3, 4]})\n",
    "df_merged=pd.merge(df1,df2, on='key',how='right') #pd.merge(left, right, on=None, how='inner')\n",
    "print(df_merged)"
   ]
  },
  {
   "cell_type": "code",
   "execution_count": 13,
   "id": "07fce1ac-15f0-45be-bb62-42466dcfe88b",
   "metadata": {},
   "outputs": [
    {
     "name": "stdout",
     "output_type": "stream",
     "text": [
      "   id   name  score\n",
      "0   1  Alice    NaN\n",
      "1   2    Bob   85.0\n",
      "2   3    NaN   90.0\n"
     ]
    }
   ],
   "source": [
    "df1 = pd.DataFrame({'id': [1, 2], 'name': ['Alice', 'Bob']})\n",
    "df2 = pd.DataFrame({'id': [2, 3], 'score': [85, 90]})\n",
    "df_merged=pd.merge(df1,df2, on='id', how='outer')\n",
    "print(df_merged)"
   ]
  },
  {
   "cell_type": "code",
   "execution_count": 16,
   "id": "3f7c3003-ca57-49b1-993f-7dc84df4bf1c",
   "metadata": {},
   "outputs": [
    {
     "name": "stdout",
     "output_type": "stream",
     "text": [
      "<class 'pandas.core.frame.DataFrame'>\n",
      "RangeIndex: 768 entries, 0 to 767\n",
      "Data columns (total 9 columns):\n",
      " #   Column                    Non-Null Count  Dtype  \n",
      "---  ------                    --------------  -----  \n",
      " 0   Pregnancies               768 non-null    int64  \n",
      " 1   Glucose                   768 non-null    int64  \n",
      " 2   BloodPressure             768 non-null    int64  \n",
      " 3   SkinThickness             768 non-null    int64  \n",
      " 4   Insulin                   768 non-null    int64  \n",
      " 5   BMI                       768 non-null    float64\n",
      " 6   DiabetesPedigreeFunction  768 non-null    float64\n",
      " 7   Age                       768 non-null    int64  \n",
      " 8   Outcome                   768 non-null    int64  \n",
      "dtypes: float64(2), int64(7)\n",
      "memory usage: 54.1 KB\n",
      "None\n"
     ]
    }
   ],
   "source": [
    "df=pd.read_csv('diabetes.csv') #pd.read_csv(filename, delimiter=',')\n",
    "print(df.info())"
   ]
  },
  {
   "cell_type": "raw",
   "id": "981c53f9-3bda-49d6-81d3-e12e165a39ff",
   "metadata": {},
   "source": [
    "pd.read_excel('data.xlsx'): Reads Excel files (requires openpyxl or xlrd).\n",
    "pd.read_sql('SELECT * FROM table', con): Reads from a SQL database (requires a connection object).\n",
    "pd.read_json('data.json'): Reads JSON files or strings.\n",
    "pd.read_parquet('data.parquet'): Reads Parquet files (requires pyarrow or fastparquet).\n",
    "pd.read_html('data.html'): Extracts tables from HTML (returns a list of DataFrames).\n",
    "pd.read_pickle('data.pkl'): Reads pickled Pandas objects."
   ]
  },
  {
   "cell_type": "code",
   "execution_count": null,
   "id": "338df6d7-954d-4bfc-b441-e27c12ab9063",
   "metadata": {},
   "outputs": [],
   "source": [
    "import pandas as pd\n",
    "df = pd.read_excel('data.xlsx', sheet_name='Sheet1')\n",
    "print(df)"
   ]
  },
  {
   "cell_type": "code",
   "execution_count": null,
   "id": "ef602c1d-b361-48ed-81d5-59dd665967e8",
   "metadata": {},
   "outputs": [],
   "source": [
    "import pandas as pd\n",
    "import sqlite3\n",
    "con=sqlite3.connect('mydatabase.db')\n",
    "df=df.read_sql('select * from my_table', con)\n",
    "print(df)"
   ]
  },
  {
   "cell_type": "code",
   "execution_count": null,
   "id": "7ede0733-0359-43f5-b8f7-9a195cb0c5d2",
   "metadata": {},
   "outputs": [],
   "source": [
    "df=pd.read_json('data.json')\n",
    "print(df)"
   ]
  },
  {
   "cell_type": "code",
   "execution_count": null,
   "id": "bb2a597a-a06d-48cd-984f-7c613cfa388e",
   "metadata": {},
   "outputs": [],
   "source": [
    "df=pd.read_parquet('userdata1.parquet')\n",
    "print(df)"
   ]
  },
  {
   "cell_type": "code",
   "execution_count": null,
   "id": "c4b0b5de-d0c5-4f83-a8ea-1471fd988f3f",
   "metadata": {},
   "outputs": [],
   "source": [
    "df=pd.read_csv('data.html')\n",
    "print(df)"
   ]
  },
  {
   "cell_type": "code",
   "execution_count": null,
   "id": "18e0e405-e5fb-4312-a16e-7dc2ae872e8f",
   "metadata": {},
   "outputs": [],
   "source": [
    "df=pd.read_pickle('data.pkl')\n",
    "print(df)"
   ]
  },
  {
   "cell_type": "code",
   "execution_count": 74,
   "id": "fb4a40f9-9278-4ef9-a4b4-471e892c56ba",
   "metadata": {},
   "outputs": [
    {
     "name": "stdout",
     "output_type": "stream",
     "text": [
      "  key  value_left  value_right\n",
      "0   A           1            3\n",
      "1   B           2            4\n"
     ]
    }
   ],
   "source": [
    "#to remove overlapping columns\n",
    "df1 = pd.DataFrame({'key': ['A', 'B'], 'value': [1, 2]})\n",
    "df2 = pd.DataFrame({'key': ['A', 'B'], 'value': [3, 4]})\n",
    "df_merged = pd.merge(df1, df2, on='key', suffixes=('_left', '_right'))\n",
    "print(df_merged)"
   ]
  },
  {
   "cell_type": "markdown",
   "id": "4212056d-e5ab-428f-8124-e837309768ed",
   "metadata": {},
   "source": [
    "<h3>Data Inspection<br></h3>\n",
    "this section covers methods to explore and understand your DataFrame--its structure, contents, and basic properties.<br>\n",
    "inspecting it is crucial to understand what you’re working with—its size, data types, missing values, and a preview of the data."
   ]
  },
  {
   "cell_type": "code",
   "execution_count": null,
   "id": "cfc57851-6711-4643-8dc6-fb4da205a20f",
   "metadata": {},
   "outputs": [],
   "source": [
    "#df.head(n) it is going to display first n rows of data\n",
    "df=pd.read_parquet('userdata1.parquet')\n",
    "print(df.head(2))"
   ]
  },
  {
   "cell_type": "code",
   "execution_count": 78,
   "id": "174d9433-9c26-43ae-89d1-34cc9af35326",
   "metadata": {},
   "outputs": [
    {
     "name": "stdout",
     "output_type": "stream",
     "text": [
      "  Category Type  Value  Score\n",
      "3        B    Y     40     80\n",
      "4        A    X     15     88\n"
     ]
    }
   ],
   "source": [
    "print(df.tail(2))"
   ]
  },
  {
   "cell_type": "code",
   "execution_count": 79,
   "id": "55aca52e-27b4-4fac-ba48-b472685c9d26",
   "metadata": {},
   "outputs": [
    {
     "name": "stdout",
     "output_type": "stream",
     "text": [
      "(5, 4)\n"
     ]
    }
   ],
   "source": [
    "#df.shape is going to return a tuple with the number of rows and columns.\n",
    "print(df.shape) #indicating that 1000rows , 13columns"
   ]
  },
  {
   "cell_type": "code",
   "execution_count": 80,
   "id": "8e204539-f41a-43ee-9603-6a377f6bbdda",
   "metadata": {},
   "outputs": [
    {
     "name": "stdout",
     "output_type": "stream",
     "text": [
      "<class 'pandas.core.frame.DataFrame'>\n",
      "RangeIndex: 5 entries, 0 to 4\n",
      "Data columns (total 4 columns):\n",
      " #   Column    Non-Null Count  Dtype \n",
      "---  ------    --------------  ----- \n",
      " 0   Category  5 non-null      object\n",
      " 1   Type      5 non-null      object\n",
      " 2   Value     5 non-null      int64 \n",
      " 3   Score     5 non-null      int64 \n",
      "dtypes: int64(2), object(2)\n",
      "memory usage: 292.0+ bytes\n"
     ]
    }
   ],
   "source": [
    "df.info() #df.info() provides a summary of the data frame(including column name, data types, non-null counts)"
   ]
  },
  {
   "cell_type": "code",
   "execution_count": 81,
   "id": "01db60aa-a774-4706-bb59-f8f3d9524170",
   "metadata": {},
   "outputs": [
    {
     "data": {
      "text/html": [
       "<div>\n",
       "<style scoped>\n",
       "    .dataframe tbody tr th:only-of-type {\n",
       "        vertical-align: middle;\n",
       "    }\n",
       "\n",
       "    .dataframe tbody tr th {\n",
       "        vertical-align: top;\n",
       "    }\n",
       "\n",
       "    .dataframe thead th {\n",
       "        text-align: right;\n",
       "    }\n",
       "</style>\n",
       "<table border=\"1\" class=\"dataframe\">\n",
       "  <thead>\n",
       "    <tr style=\"text-align: right;\">\n",
       "      <th></th>\n",
       "      <th>Value</th>\n",
       "      <th>Score</th>\n",
       "    </tr>\n",
       "  </thead>\n",
       "  <tbody>\n",
       "    <tr>\n",
       "      <th>count</th>\n",
       "      <td>5.000000</td>\n",
       "      <td>5.00000</td>\n",
       "    </tr>\n",
       "    <tr>\n",
       "      <th>mean</th>\n",
       "      <td>23.000000</td>\n",
       "      <td>87.60000</td>\n",
       "    </tr>\n",
       "    <tr>\n",
       "      <th>std</th>\n",
       "      <td>12.041595</td>\n",
       "      <td>5.59464</td>\n",
       "    </tr>\n",
       "    <tr>\n",
       "      <th>min</th>\n",
       "      <td>10.000000</td>\n",
       "      <td>80.00000</td>\n",
       "    </tr>\n",
       "    <tr>\n",
       "      <th>25%</th>\n",
       "      <td>15.000000</td>\n",
       "      <td>85.00000</td>\n",
       "    </tr>\n",
       "    <tr>\n",
       "      <th>50%</th>\n",
       "      <td>20.000000</td>\n",
       "      <td>88.00000</td>\n",
       "    </tr>\n",
       "    <tr>\n",
       "      <th>75%</th>\n",
       "      <td>30.000000</td>\n",
       "      <td>90.00000</td>\n",
       "    </tr>\n",
       "    <tr>\n",
       "      <th>max</th>\n",
       "      <td>40.000000</td>\n",
       "      <td>95.00000</td>\n",
       "    </tr>\n",
       "  </tbody>\n",
       "</table>\n",
       "</div>"
      ],
      "text/plain": [
       "           Value     Score\n",
       "count   5.000000   5.00000\n",
       "mean   23.000000  87.60000\n",
       "std    12.041595   5.59464\n",
       "min    10.000000  80.00000\n",
       "25%    15.000000  85.00000\n",
       "50%    20.000000  88.00000\n",
       "75%    30.000000  90.00000\n",
       "max    40.000000  95.00000"
      ]
     },
     "execution_count": 81,
     "metadata": {},
     "output_type": "execute_result"
    }
   ],
   "source": [
    "df.describe() #df.describe generates summary statistics(count, mean, etc) for numarical columns"
   ]
  },
  {
   "cell_type": "code",
   "execution_count": 82,
   "id": "f7482958-a0c9-427b-b125-21107cd34619",
   "metadata": {},
   "outputs": [
    {
     "data": {
      "text/plain": [
       "Index(['Category', 'Type', 'Value', 'Score'], dtype='object')"
      ]
     },
     "execution_count": 82,
     "metadata": {},
     "output_type": "execute_result"
    }
   ],
   "source": [
    "df.columns #df.columns returns the column names as an index object"
   ]
  },
  {
   "cell_type": "code",
   "execution_count": 83,
   "id": "e5dff55f-527f-401a-b35d-a3bf474b12e1",
   "metadata": {},
   "outputs": [
    {
     "name": "stdout",
     "output_type": "stream",
     "text": [
      "['Category', 'Type', 'Value', 'Score']\n"
     ]
    }
   ],
   "source": [
    "print(list(df.columns))"
   ]
  },
  {
   "cell_type": "code",
   "execution_count": 84,
   "id": "1daf0c1f-84eb-42c3-bee4-da2a98dc46d9",
   "metadata": {},
   "outputs": [
    {
     "data": {
      "text/plain": [
       "Category    object\n",
       "Type        object\n",
       "Value        int64\n",
       "Score        int64\n",
       "dtype: object"
      ]
     },
     "execution_count": 84,
     "metadata": {},
     "output_type": "execute_result"
    }
   ],
   "source": [
    "df.dtypes #df.dtypes returns the data type of each coloumn"
   ]
  },
  {
   "cell_type": "code",
   "execution_count": 85,
   "id": "44d11d8f-78cb-48a9-bae7-0c510209b58e",
   "metadata": {},
   "outputs": [
    {
     "data": {
      "text/html": [
       "<div>\n",
       "<style scoped>\n",
       "    .dataframe tbody tr th:only-of-type {\n",
       "        vertical-align: middle;\n",
       "    }\n",
       "\n",
       "    .dataframe tbody tr th {\n",
       "        vertical-align: top;\n",
       "    }\n",
       "\n",
       "    .dataframe thead th {\n",
       "        text-align: right;\n",
       "    }\n",
       "</style>\n",
       "<table border=\"1\" class=\"dataframe\">\n",
       "  <thead>\n",
       "    <tr style=\"text-align: right;\">\n",
       "      <th></th>\n",
       "      <th>Category</th>\n",
       "      <th>Type</th>\n",
       "      <th>Value</th>\n",
       "      <th>Score</th>\n",
       "    </tr>\n",
       "  </thead>\n",
       "  <tbody>\n",
       "    <tr>\n",
       "      <th>0</th>\n",
       "      <td>False</td>\n",
       "      <td>False</td>\n",
       "      <td>False</td>\n",
       "      <td>False</td>\n",
       "    </tr>\n",
       "    <tr>\n",
       "      <th>1</th>\n",
       "      <td>False</td>\n",
       "      <td>False</td>\n",
       "      <td>False</td>\n",
       "      <td>False</td>\n",
       "    </tr>\n",
       "    <tr>\n",
       "      <th>2</th>\n",
       "      <td>False</td>\n",
       "      <td>False</td>\n",
       "      <td>False</td>\n",
       "      <td>False</td>\n",
       "    </tr>\n",
       "    <tr>\n",
       "      <th>3</th>\n",
       "      <td>False</td>\n",
       "      <td>False</td>\n",
       "      <td>False</td>\n",
       "      <td>False</td>\n",
       "    </tr>\n",
       "    <tr>\n",
       "      <th>4</th>\n",
       "      <td>False</td>\n",
       "      <td>False</td>\n",
       "      <td>False</td>\n",
       "      <td>False</td>\n",
       "    </tr>\n",
       "  </tbody>\n",
       "</table>\n",
       "</div>"
      ],
      "text/plain": [
       "   Category   Type  Value  Score\n",
       "0     False  False  False  False\n",
       "1     False  False  False  False\n",
       "2     False  False  False  False\n",
       "3     False  False  False  False\n",
       "4     False  False  False  False"
      ]
     },
     "execution_count": 85,
     "metadata": {},
     "output_type": "execute_result"
    }
   ],
   "source": [
    "df.isnull() #df.isnull() returns a boolean data frame showing True for missing valeus (NaN)!"
   ]
  },
  {
   "cell_type": "code",
   "execution_count": 87,
   "id": "1bcd296d",
   "metadata": {},
   "outputs": [
    {
     "data": {
      "text/plain": [
       "Category    0\n",
       "Type        0\n",
       "Value       0\n",
       "Score       0\n",
       "dtype: int64"
      ]
     },
     "execution_count": 87,
     "metadata": {},
     "output_type": "execute_result"
    }
   ],
   "source": [
    "df.isnull().sum() #to count each column missing values use df.isnull().sum()"
   ]
  },
  {
   "cell_type": "code",
   "execution_count": 93,
   "id": "d55178a5-e8be-46ec-b504-4bc7aeb661bd",
   "metadata": {},
   "outputs": [
    {
     "data": {
      "text/html": [
       "<div>\n",
       "<style scoped>\n",
       "    .dataframe tbody tr th:only-of-type {\n",
       "        vertical-align: middle;\n",
       "    }\n",
       "\n",
       "    .dataframe tbody tr th {\n",
       "        vertical-align: top;\n",
       "    }\n",
       "\n",
       "    .dataframe thead th {\n",
       "        text-align: right;\n",
       "    }\n",
       "</style>\n",
       "<table border=\"1\" class=\"dataframe\">\n",
       "  <thead>\n",
       "    <tr style=\"text-align: right;\">\n",
       "      <th></th>\n",
       "      <th>Category</th>\n",
       "      <th>Type</th>\n",
       "      <th>Value</th>\n",
       "      <th>Score</th>\n",
       "    </tr>\n",
       "  </thead>\n",
       "  <tbody>\n",
       "    <tr>\n",
       "      <th>0</th>\n",
       "      <td>True</td>\n",
       "      <td>True</td>\n",
       "      <td>True</td>\n",
       "      <td>True</td>\n",
       "    </tr>\n",
       "    <tr>\n",
       "      <th>1</th>\n",
       "      <td>True</td>\n",
       "      <td>True</td>\n",
       "      <td>True</td>\n",
       "      <td>True</td>\n",
       "    </tr>\n",
       "    <tr>\n",
       "      <th>2</th>\n",
       "      <td>True</td>\n",
       "      <td>True</td>\n",
       "      <td>True</td>\n",
       "      <td>True</td>\n",
       "    </tr>\n",
       "    <tr>\n",
       "      <th>3</th>\n",
       "      <td>True</td>\n",
       "      <td>True</td>\n",
       "      <td>True</td>\n",
       "      <td>True</td>\n",
       "    </tr>\n",
       "    <tr>\n",
       "      <th>4</th>\n",
       "      <td>True</td>\n",
       "      <td>True</td>\n",
       "      <td>True</td>\n",
       "      <td>True</td>\n",
       "    </tr>\n",
       "  </tbody>\n",
       "</table>\n",
       "</div>"
      ],
      "text/plain": [
       "   Category  Type  Value  Score\n",
       "0      True  True   True   True\n",
       "1      True  True   True   True\n",
       "2      True  True   True   True\n",
       "3      True  True   True   True\n",
       "4      True  True   True   True"
      ]
     },
     "execution_count": 93,
     "metadata": {},
     "output_type": "execute_result"
    }
   ],
   "source": [
    "df.notnull()"
   ]
  },
  {
   "cell_type": "code",
   "execution_count": 89,
   "id": "42649202-ed2c-4f80-9197-80ff2201e76e",
   "metadata": {},
   "outputs": [
    {
     "data": {
      "text/plain": [
       "Category    5\n",
       "Type        5\n",
       "Value       5\n",
       "Score       5\n",
       "dtype: int64"
      ]
     },
     "execution_count": 89,
     "metadata": {},
     "output_type": "execute_result"
    }
   ],
   "source": [
    "df.notnull().sum()"
   ]
  },
  {
   "cell_type": "code",
   "execution_count": 90,
   "id": "230552b1-e835-4101-b38a-a65a84e08b66",
   "metadata": {},
   "outputs": [
    {
     "data": {
      "text/plain": [
       "5"
      ]
     },
     "execution_count": 90,
     "metadata": {},
     "output_type": "execute_result"
    }
   ],
   "source": [
    "df.notnull().all(axis=1).sum()"
   ]
  },
  {
   "cell_type": "code",
   "execution_count": 91,
   "id": "af4cc969-070f-41b6-9085-b57e1b951188",
   "metadata": {},
   "outputs": [
    {
     "data": {
      "text/plain": [
       "4"
      ]
     },
     "execution_count": 91,
     "metadata": {},
     "output_type": "execute_result"
    }
   ],
   "source": [
    "df.notnull().all(axis=0).sum()"
   ]
  },
  {
   "cell_type": "code",
   "execution_count": null,
   "id": "6d35a636-c789-408f-92f1-71a56e196799",
   "metadata": {},
   "outputs": [],
   "source": [
    "#df.memory_usage() returns memory usage(in bytes) for each column.\n",
    "df.memory_usage(deep=True) #deep=Trye gives more accurate count for object types (like strings)"
   ]
  },
  {
   "cell_type": "code",
   "execution_count": null,
   "id": "b65f661b-e603-4d02-9c32-e4624f67ad9e",
   "metadata": {},
   "outputs": [],
   "source": [
    "df.isnull().mean()*100"
   ]
  },
  {
   "cell_type": "code",
   "execution_count": null,
   "id": "5d29f6e4-3079-4616-9b0a-747de659d4a2",
   "metadata": {},
   "outputs": [],
   "source": [
    "#practice\n",
    "import pandas as pd\n",
    "\n",
    "# Create a varied DataFrame\n",
    "df = pd.DataFrame({\n",
    "    'ID': [1, 2, None, 4],\n",
    "    'Name': ['Alice', 'Bob', None, 'David'],\n",
    "    'Score': [85.5, None, 90.0, 95.0],\n",
    "    'Date': pd.to_datetime(['2023-01-01', None, '2023-01-03', '2023-01-04'])\n",
    "})\n",
    "\n",
    "# Explore it\n",
    "print(\"Head (3):\\n\", df.head(3))\n",
    "print(\"\\nTail (2):\\n\", df.tail(2))\n",
    "print(\"\\nShape:\", df.shape)\n",
    "print(\"\\nInfo:\")\n",
    "df.info()\n",
    "print(\"\\nDescribe:\\n\", df.describe())\n",
    "print(\"\\nColumns:\", list(df.columns))\n",
    "print(\"\\nDtypes:\\n\", df.dtypes)\n",
    "print(\"\\nNull counts:\\n\", df.isnull().sum())\n",
    "print(\"\\nMemory:\\n\", df.memory_usage(deep=True))"
   ]
  },
  {
   "cell_type": "code",
   "execution_count": null,
   "id": "24f72721-c6ee-4414-8846-acf3c8a50a13",
   "metadata": {},
   "outputs": [],
   "source": [
    "#df.head(n) it is going to display first n rows of data\n",
    "df=pd.read_parquet('userdata1.parquet')\n",
    "print(df.head(2))"
   ]
  },
  {
   "cell_type": "markdown",
   "id": "642db318-0d31-48da-bd1d-03660d4a2ce6",
   "metadata": {},
   "source": [
    "<h3>Data Selection and Indexing</h3>\n",
    "This section focuses on how to access, extract, and manipulate specific parts of a DataFrame using various indexing techniques.<br>\n",
    "access columns, rows, or individual values using labels, positions, or conditions.\n"
   ]
  },
  {
   "cell_type": "code",
   "execution_count": null,
   "id": "f228f1cc-f857-4436-93c1-ec04701dc159",
   "metadata": {},
   "outputs": [],
   "source": [
    "#df['column_name'] to access a specific column as a Series\n",
    "df['title']"
   ]
  },
  {
   "cell_type": "code",
   "execution_count": null,
   "id": "3a016f9d-09a4-4d96-9dd0-e0c0bd1d82e0",
   "metadata": {},
   "outputs": [],
   "source": [
    "#instead of that we can even call df.column_name as well\n",
    "df.title"
   ]
  },
  {
   "cell_type": "code",
   "execution_count": null,
   "id": "06d04986-54b6-4c9f-9176-e2fb31d83e3a",
   "metadata": {},
   "outputs": [],
   "source": [
    "#df.iloc[] indexes by integer position (row, column).\n",
    "df.iloc[0:2,1:10] #syntax: df.iloc[row_index, column_index]"
   ]
  },
  {
   "cell_type": "code",
   "execution_count": null,
   "id": "812fdff7-35e4-4c92-a742-fdc8e1a3807a",
   "metadata": {},
   "outputs": [],
   "source": [
    "#df.loc[] indexes by label (row/column names)\n",
    "df.loc[100,'salary'] #df.loc[row_label, column_label]"
   ]
  },
  {
   "cell_type": "code",
   "execution_count": null,
   "id": "02e5d3d5-c999-411e-9f13-6749d7047b0a",
   "metadata": {},
   "outputs": [],
   "source": [
    "#instead fo df.loc[] we can use df.at[row_label, column_label] for single value access it is even more faster!\n",
    "df.at[10,'gender']"
   ]
  },
  {
   "cell_type": "code",
   "execution_count": null,
   "id": "18ee6242-5867-47f0-81db-b0a42663251e",
   "metadata": {},
   "outputs": [],
   "source": [
    "#df.iat[] Accesses a single value by integer position (faster than iloc for scalars).\n",
    "df.iat[10,3]"
   ]
  },
  {
   "cell_type": "code",
   "execution_count": null,
   "id": "e800431b-bc08-4387-8f9c-431fa4fbed0d",
   "metadata": {},
   "outputs": [],
   "source": []
  },
  {
   "cell_type": "code",
   "execution_count": null,
   "id": "4c9abf43-6826-4bfc-9417-15c90d161403",
   "metadata": {},
   "outputs": [],
   "source": [
    "#df.query() filters rows using a string expression!\n",
    "df.query(\"gender=='Female' and salary>10000\")"
   ]
  },
  {
   "cell_type": "code",
   "execution_count": null,
   "id": "613b9dfd-9e50-4470-bd4a-2d81a9a6fd9b",
   "metadata": {},
   "outputs": [],
   "source": [
    "print(df.xs(0))"
   ]
  },
  {
   "cell_type": "code",
   "execution_count": null,
   "id": "78e6c393-15fd-4ac1-b7f2-46cf25f8549b",
   "metadata": {},
   "outputs": [],
   "source": [
    "df.iloc[0,0:]"
   ]
  },
  {
   "cell_type": "code",
   "execution_count": null,
   "id": "c31e42b0-effe-4eba-b03f-e66e3d7b9713",
   "metadata": {},
   "outputs": [],
   "source": [
    "df.set_index('id', inplace=True) #sets one or more columns as the index.\n",
    "print(df.index) # inplace=True modifies the DataFrame directly."
   ]
  },
  {
   "cell_type": "code",
   "execution_count": null,
   "id": "b65c2575-56a7-499b-ae93-d3478447d46d",
   "metadata": {},
   "outputs": [],
   "source": [
    "df.reset_index(inplace=True) #undo the index\n",
    "print(df.index)"
   ]
  },
  {
   "cell_type": "code",
   "execution_count": null,
   "id": "e36831c5-6fe5-45ca-98eb-bee85ffd33e5",
   "metadata": {},
   "outputs": [],
   "source": [
    "df1 = pd.DataFrame({'B': [4, 5, 6]}, index=[2, 0, 1])\n",
    "print(df1.sort_index()) #syntax: df.sort_index(axis=0, ascending=True)"
   ]
  },
  {
   "cell_type": "code",
   "execution_count": null,
   "id": "9c614fc1-23f6-428b-aea2-71268d44ea5f",
   "metadata": {},
   "outputs": [],
   "source": [
    "print(df1.sort_index(ascending=False))"
   ]
  },
  {
   "cell_type": "code",
   "execution_count": 17,
   "id": "faa80e89-434c-4291-88f4-ccf12667e744",
   "metadata": {},
   "outputs": [
    {
     "name": "stdout",
     "output_type": "stream",
     "text": [
      "Column 'Name':\n",
      " x      Alice\n",
      "y        Bob\n",
      "z    Charlie\n",
      "Name: Name, dtype: object\n",
      "\n",
      "Row 1 (iloc):\n",
      " Name     Bob\n",
      "Age       30\n",
      "Score     90\n",
      "Name: y, dtype: object\n",
      "\n",
      "Row 'y' (loc):\n",
      " Name     Bob\n",
      "Age       30\n",
      "Score     90\n",
      "Name: y, dtype: object\n",
      "\n",
      "Value at 'x', 'Age': 25\n",
      "\n",
      "Value at position (0, 2): 85\n",
      "\n",
      "Query Age > 25:\n",
      "       Name  Age  Score\n",
      "y      Bob   30     90\n",
      "z  Charlie   35     95\n",
      "\n",
      "Cross-section 'z':\n",
      " Name     Charlie\n",
      "Age           35\n",
      "Score         95\n",
      "Name: z, dtype: object\n",
      "\n",
      "After set_index:\n",
      "          Age  Score\n",
      "Name               \n",
      "Alice     25     85\n",
      "Bob       30     90\n",
      "Charlie   35     95\n",
      "\n",
      "After reset_index:\n",
      "       Name  Age  Score\n",
      "0    Alice   25     85\n",
      "1      Bob   30     90\n",
      "2  Charlie   35     95\n",
      "\n",
      "Sorted by index:\n",
      "       Name  Age  Score\n",
      "0    Alice   25     85\n",
      "1      Bob   30     90\n",
      "2  Charlie   35     95\n"
     ]
    }
   ],
   "source": [
    "#practice\n",
    "import pandas as pd\n",
    "\n",
    "# Create a DataFrame\n",
    "df1 = pd.DataFrame({\n",
    "    'Name': ['Alice', 'Bob', 'Charlie'],\n",
    "    'Age': [25, 30, 35],\n",
    "    'Score': [85, 90, 95]\n",
    "}, index=['x', 'y', 'z'])\n",
    "\n",
    "# Selection and Indexing\n",
    "print(\"Column 'Name':\\n\", df1['Name'])\n",
    "print(\"\\nRow 1 (iloc):\\n\", df1.iloc[1])\n",
    "print(\"\\nRow 'y' (loc):\\n\", df1.loc['y'])\n",
    "print(\"\\nValue at 'x', 'Age':\", df1.at['x', 'Age'])\n",
    "print(\"\\nValue at position (0, 2):\", df1.iat[0, 2])\n",
    "print(\"\\nQuery Age > 25:\\n\", df1.query('Age > 25'))\n",
    "print(\"\\nCross-section 'z':\\n\", df1.xs('z'))\n",
    "df1.set_index('Name', inplace=True)\n",
    "print(\"\\nAfter set_index:\\n\", df1)\n",
    "df1.reset_index(inplace=True)\n",
    "print(\"\\nAfter reset_index:\\n\", df1)\n",
    "print(\"\\nSorted by index:\\n\", df1.sort_index())\n"
   ]
  },
  {
   "cell_type": "markdown",
   "id": "c31a9215-ac57-45bc-81a7-8d5cd71c5ad3",
   "metadata": {},
   "source": [
    "<h3>Data Cleaning</h3>\n",
    "This section covers methods to handle missing values, duplicates, and transformations \n",
    "to prepare your data frame for anayalysis."
   ]
  },
  {
   "cell_type": "code",
   "execution_count": 19,
   "id": "e0ba4ef1-100d-48dc-8e1d-69f75ab6957d",
   "metadata": {},
   "outputs": [
    {
     "name": "stdout",
     "output_type": "stream",
     "text": [
      "<class 'pandas.core.frame.DataFrame'>\n",
      "RangeIndex: 3 entries, 0 to 2\n",
      "Data columns (total 2 columns):\n",
      " #   Column  Non-Null Count  Dtype  \n",
      "---  ------  --------------  -----  \n",
      " 0   A       2 non-null      float64\n",
      " 1   B       3 non-null      int64  \n",
      "dtypes: float64(1), int64(1)\n",
      "memory usage: 180.0 bytes\n",
      "None\n",
      "     A  B\n",
      "0  1.0  4\n",
      "2  3.0  6\n",
      "\n",
      "     A  B\n",
      "0  1.0  4\n",
      "1  NaN  5\n",
      "2  3.0  6\n"
     ]
    }
   ],
   "source": [
    "#df.dropna() removes rows or columns with missing values (NaN)\n",
    "temp=pd.DataFrame({'A': [1, None, 3], 'B': [4, 5, 6]})\n",
    "print(temp.info())\n",
    "print(temp.dropna(how='any')) #syntax: df.dropna(axis=0, how='any/all', inplace=False)\n",
    "print()\n",
    "print(temp)"
   ]
  },
  {
   "cell_type": "code",
   "execution_count": 20,
   "id": "fb56cab7-5c43-4dd8-a331-2f88c88dfb22",
   "metadata": {},
   "outputs": [
    {
     "name": "stdout",
     "output_type": "stream",
     "text": [
      "      A    B\n",
      "1  None  1.0\n"
     ]
    }
   ],
   "source": [
    "df1 = pd.DataFrame({'A': [None, None], 'B': [None, 1]})\n",
    "print(df1.dropna(how='all')) #drop if all values are missing"
   ]
  },
  {
   "cell_type": "code",
   "execution_count": 21,
   "id": "129b69a8-9bc6-4474-9d08-69d02f2cff34",
   "metadata": {},
   "outputs": [
    {
     "name": "stdout",
     "output_type": "stream",
     "text": [
      "   A    B\n",
      "0  0  0.0\n",
      "1  0  1.0\n"
     ]
    }
   ],
   "source": [
    "#df.fillna()) fills missing values with a specific value or method!\n",
    "print(df1.fillna(0)) #df.fillna(value, method=None, inplace=False)"
   ]
  },
  {
   "cell_type": "code",
   "execution_count": 22,
   "id": "abb086e2-bb4d-4c7f-b682-803ec73c7963",
   "metadata": {},
   "outputs": [
    {
     "data": {
      "text/plain": [
       "0    1.0\n",
       "1    1.0\n",
       "Name: B, dtype: float64"
      ]
     },
     "execution_count": 22,
     "metadata": {},
     "output_type": "execute_result"
    }
   ],
   "source": [
    "df1['B'].fillna(df1['B'].mean())"
   ]
  },
  {
   "cell_type": "code",
   "execution_count": 23,
   "id": "e2604260-43b5-4872-b52e-f4c6d77e77f2",
   "metadata": {},
   "outputs": [
    {
     "name": "stdout",
     "output_type": "stream",
     "text": [
      "<class 'pandas.core.frame.DataFrame'>\n",
      "RangeIndex: 768 entries, 0 to 767\n",
      "Data columns (total 9 columns):\n",
      " #   Column                    Non-Null Count  Dtype  \n",
      "---  ------                    --------------  -----  \n",
      " 0   Pregnancies               768 non-null    int64  \n",
      " 1   Glucose                   768 non-null    int64  \n",
      " 2   BloodPressure             768 non-null    int64  \n",
      " 3   SkinThickness             768 non-null    int64  \n",
      " 4   Insulin                   768 non-null    int64  \n",
      " 5   BMI                       768 non-null    float64\n",
      " 6   DiabetesPedigreeFunction  768 non-null    float64\n",
      " 7   Age                       768 non-null    int64  \n",
      " 8   Outcome                   768 non-null    int64  \n",
      "dtypes: float64(2), int64(7)\n",
      "memory usage: 54.1 KB\n"
     ]
    }
   ],
   "source": [
    "k=df.fillna(method='ffill') #methods are ffill or bfill means forward fill and backward fill\n",
    "k.info()"
   ]
  },
  {
   "cell_type": "code",
   "execution_count": 24,
   "id": "2f40b7bb-f868-4ff6-ac6d-3c2a36510ff4",
   "metadata": {},
   "outputs": [
    {
     "data": {
      "text/html": [
       "<div>\n",
       "<style scoped>\n",
       "    .dataframe tbody tr th:only-of-type {\n",
       "        vertical-align: middle;\n",
       "    }\n",
       "\n",
       "    .dataframe tbody tr th {\n",
       "        vertical-align: top;\n",
       "    }\n",
       "\n",
       "    .dataframe thead th {\n",
       "        text-align: right;\n",
       "    }\n",
       "</style>\n",
       "<table border=\"1\" class=\"dataframe\">\n",
       "  <thead>\n",
       "    <tr style=\"text-align: right;\">\n",
       "      <th></th>\n",
       "      <th>A</th>\n",
       "      <th>B</th>\n",
       "    </tr>\n",
       "  </thead>\n",
       "  <tbody>\n",
       "    <tr>\n",
       "      <th>0</th>\n",
       "      <td>None</td>\n",
       "      <td>NaN</td>\n",
       "    </tr>\n",
       "    <tr>\n",
       "      <th>1</th>\n",
       "      <td>None</td>\n",
       "      <td>1.0</td>\n",
       "    </tr>\n",
       "  </tbody>\n",
       "</table>\n",
       "</div>"
      ],
      "text/plain": [
       "      A    B\n",
       "0  None  NaN\n",
       "1  None  1.0"
      ]
     },
     "execution_count": 24,
     "metadata": {},
     "output_type": "execute_result"
    }
   ],
   "source": [
    "#df.replace() replaces specific value with others.\n",
    "import numpy as np\n",
    "df1.replace(0,np.nan) #syntax: df.replace(to_place, value, inplace=False)"
   ]
  },
  {
   "cell_type": "code",
   "execution_count": 25,
   "id": "65e6f65f-0ed5-4fc2-b589-d35ca30c0ccf",
   "metadata": {},
   "outputs": [
    {
     "data": {
      "text/html": [
       "<div>\n",
       "<style scoped>\n",
       "    .dataframe tbody tr th:only-of-type {\n",
       "        vertical-align: middle;\n",
       "    }\n",
       "\n",
       "    .dataframe tbody tr th {\n",
       "        vertical-align: top;\n",
       "    }\n",
       "\n",
       "    .dataframe thead th {\n",
       "        text-align: right;\n",
       "    }\n",
       "</style>\n",
       "<table border=\"1\" class=\"dataframe\">\n",
       "  <thead>\n",
       "    <tr style=\"text-align: right;\">\n",
       "      <th></th>\n",
       "      <th>A</th>\n",
       "      <th>B</th>\n",
       "    </tr>\n",
       "  </thead>\n",
       "  <tbody>\n",
       "    <tr>\n",
       "      <th>0</th>\n",
       "      <td>100000</td>\n",
       "      <td>2000</td>\n",
       "    </tr>\n",
       "    <tr>\n",
       "      <th>1</th>\n",
       "      <td>2000000</td>\n",
       "      <td>2001</td>\n",
       "    </tr>\n",
       "    <tr>\n",
       "      <th>2</th>\n",
       "      <td>2</td>\n",
       "      <td>2002</td>\n",
       "    </tr>\n",
       "    <tr>\n",
       "      <th>3</th>\n",
       "      <td>3</td>\n",
       "      <td>2003</td>\n",
       "    </tr>\n",
       "    <tr>\n",
       "      <th>4</th>\n",
       "      <td>4</td>\n",
       "      <td>2004</td>\n",
       "    </tr>\n",
       "    <tr>\n",
       "      <th>...</th>\n",
       "      <td>...</td>\n",
       "      <td>...</td>\n",
       "    </tr>\n",
       "    <tr>\n",
       "      <th>95</th>\n",
       "      <td>95</td>\n",
       "      <td>2095</td>\n",
       "    </tr>\n",
       "    <tr>\n",
       "      <th>96</th>\n",
       "      <td>96</td>\n",
       "      <td>2096</td>\n",
       "    </tr>\n",
       "    <tr>\n",
       "      <th>97</th>\n",
       "      <td>97</td>\n",
       "      <td>2097</td>\n",
       "    </tr>\n",
       "    <tr>\n",
       "      <th>98</th>\n",
       "      <td>98</td>\n",
       "      <td>2098</td>\n",
       "    </tr>\n",
       "    <tr>\n",
       "      <th>99</th>\n",
       "      <td>99</td>\n",
       "      <td>2099</td>\n",
       "    </tr>\n",
       "  </tbody>\n",
       "</table>\n",
       "<p>100 rows × 2 columns</p>\n",
       "</div>"
      ],
      "text/plain": [
       "          A     B\n",
       "0    100000  2000\n",
       "1   2000000  2001\n",
       "2         2  2002\n",
       "3         3  2003\n",
       "4         4  2004\n",
       "..      ...   ...\n",
       "95       95  2095\n",
       "96       96  2096\n",
       "97       97  2097\n",
       "98       98  2098\n",
       "99       99  2099\n",
       "\n",
       "[100 rows x 2 columns]"
      ]
     },
     "execution_count": 25,
     "metadata": {},
     "output_type": "execute_result"
    }
   ],
   "source": [
    "df1 = pd.DataFrame({'A': range(100), 'B': range(2000,2100)})\n",
    "df1.replace([0,1],[100000,2000000],inplace=True)    #replace multiple values!\n",
    "df1"
   ]
  },
  {
   "cell_type": "code",
   "execution_count": 26,
   "id": "d7c70e6b-00e6-4021-bec4-75ab39d0929e",
   "metadata": {},
   "outputs": [
    {
     "name": "stdout",
     "output_type": "stream",
     "text": [
      "          A     B\n",
      "0    100000  2000\n",
      "1   2000000  2001\n",
      "2         2  2002\n",
      "3       999  2003\n",
      "4         4  2004\n",
      "..      ...   ...\n",
      "95       95  2095\n",
      "96       96  2096\n",
      "97       97  2097\n",
      "98       98  2098\n",
      "99       99  2099\n",
      "\n",
      "[100 rows x 2 columns]\n"
     ]
    }
   ],
   "source": [
    "print(df1.replace({'A': 3, 'B': 1}, 999)) #using dictionary"
   ]
  },
  {
   "cell_type": "code",
   "execution_count": 27,
   "id": "90580ae4-1184-4be7-8132-c0fe9f53b2f9",
   "metadata": {},
   "outputs": [
    {
     "name": "stdout",
     "output_type": "stream",
     "text": [
      "       B\n",
      "0   2000\n",
      "1   2001\n",
      "2   2002\n",
      "3   2003\n",
      "4   2004\n",
      "..   ...\n",
      "95  2095\n",
      "96  2096\n",
      "97  2097\n",
      "98  2098\n",
      "99  2099\n",
      "\n",
      "[100 rows x 1 columns]\n"
     ]
    }
   ],
   "source": [
    "print(df1.drop('A',axis=1)) #df.drop(labels, axis=0, inplace=False) used to drop specific row or columns.\n"
   ]
  },
  {
   "cell_type": "code",
   "execution_count": 28,
   "id": "2d1a8705-0a68-40fe-ae02-dddceeac07fb",
   "metadata": {},
   "outputs": [
    {
     "data": {
      "text/html": [
       "<div>\n",
       "<style scoped>\n",
       "    .dataframe tbody tr th:only-of-type {\n",
       "        vertical-align: middle;\n",
       "    }\n",
       "\n",
       "    .dataframe tbody tr th {\n",
       "        vertical-align: top;\n",
       "    }\n",
       "\n",
       "    .dataframe thead th {\n",
       "        text-align: right;\n",
       "    }\n",
       "</style>\n",
       "<table border=\"1\" class=\"dataframe\">\n",
       "  <thead>\n",
       "    <tr style=\"text-align: right;\">\n",
       "      <th></th>\n",
       "      <th>A</th>\n",
       "      <th>B</th>\n",
       "    </tr>\n",
       "  </thead>\n",
       "  <tbody>\n",
       "    <tr>\n",
       "      <th>2</th>\n",
       "      <td>2</td>\n",
       "      <td>2002</td>\n",
       "    </tr>\n",
       "    <tr>\n",
       "      <th>3</th>\n",
       "      <td>3</td>\n",
       "      <td>2003</td>\n",
       "    </tr>\n",
       "    <tr>\n",
       "      <th>4</th>\n",
       "      <td>4</td>\n",
       "      <td>2004</td>\n",
       "    </tr>\n",
       "    <tr>\n",
       "      <th>5</th>\n",
       "      <td>5</td>\n",
       "      <td>2005</td>\n",
       "    </tr>\n",
       "    <tr>\n",
       "      <th>7</th>\n",
       "      <td>7</td>\n",
       "      <td>2007</td>\n",
       "    </tr>\n",
       "    <tr>\n",
       "      <th>...</th>\n",
       "      <td>...</td>\n",
       "      <td>...</td>\n",
       "    </tr>\n",
       "    <tr>\n",
       "      <th>95</th>\n",
       "      <td>95</td>\n",
       "      <td>2095</td>\n",
       "    </tr>\n",
       "    <tr>\n",
       "      <th>96</th>\n",
       "      <td>96</td>\n",
       "      <td>2096</td>\n",
       "    </tr>\n",
       "    <tr>\n",
       "      <th>97</th>\n",
       "      <td>97</td>\n",
       "      <td>2097</td>\n",
       "    </tr>\n",
       "    <tr>\n",
       "      <th>98</th>\n",
       "      <td>98</td>\n",
       "      <td>2098</td>\n",
       "    </tr>\n",
       "    <tr>\n",
       "      <th>99</th>\n",
       "      <td>99</td>\n",
       "      <td>2099</td>\n",
       "    </tr>\n",
       "  </tbody>\n",
       "</table>\n",
       "<p>97 rows × 2 columns</p>\n",
       "</div>"
      ],
      "text/plain": [
       "     A     B\n",
       "2    2  2002\n",
       "3    3  2003\n",
       "4    4  2004\n",
       "5    5  2005\n",
       "7    7  2007\n",
       "..  ..   ...\n",
       "95  95  2095\n",
       "96  96  2096\n",
       "97  97  2097\n",
       "98  98  2098\n",
       "99  99  2099\n",
       "\n",
       "[97 rows x 2 columns]"
      ]
     },
     "execution_count": 28,
     "metadata": {},
     "output_type": "execute_result"
    }
   ],
   "source": [
    "df1.drop([0,1,6]) #drop specific row indexes"
   ]
  },
  {
   "cell_type": "code",
   "execution_count": 29,
   "id": "6a6989e0-0937-4380-822d-4a8a4a831860",
   "metadata": {},
   "outputs": [
    {
     "data": {
      "text/html": [
       "<div>\n",
       "<style scoped>\n",
       "    .dataframe tbody tr th:only-of-type {\n",
       "        vertical-align: middle;\n",
       "    }\n",
       "\n",
       "    .dataframe tbody tr th {\n",
       "        vertical-align: top;\n",
       "    }\n",
       "\n",
       "    .dataframe thead th {\n",
       "        text-align: right;\n",
       "    }\n",
       "</style>\n",
       "<table border=\"1\" class=\"dataframe\">\n",
       "  <thead>\n",
       "    <tr style=\"text-align: right;\">\n",
       "      <th></th>\n",
       "      <th>A</th>\n",
       "      <th>B</th>\n",
       "    </tr>\n",
       "  </thead>\n",
       "  <tbody>\n",
       "    <tr>\n",
       "      <th>1</th>\n",
       "      <td>2000000</td>\n",
       "      <td>2001</td>\n",
       "    </tr>\n",
       "    <tr>\n",
       "      <th>2</th>\n",
       "      <td>2</td>\n",
       "      <td>2002</td>\n",
       "    </tr>\n",
       "    <tr>\n",
       "      <th>3</th>\n",
       "      <td>3</td>\n",
       "      <td>2003</td>\n",
       "    </tr>\n",
       "    <tr>\n",
       "      <th>4</th>\n",
       "      <td>4</td>\n",
       "      <td>2004</td>\n",
       "    </tr>\n",
       "    <tr>\n",
       "      <th>5</th>\n",
       "      <td>5</td>\n",
       "      <td>2005</td>\n",
       "    </tr>\n",
       "    <tr>\n",
       "      <th>...</th>\n",
       "      <td>...</td>\n",
       "      <td>...</td>\n",
       "    </tr>\n",
       "    <tr>\n",
       "      <th>95</th>\n",
       "      <td>95</td>\n",
       "      <td>2095</td>\n",
       "    </tr>\n",
       "    <tr>\n",
       "      <th>96</th>\n",
       "      <td>96</td>\n",
       "      <td>2096</td>\n",
       "    </tr>\n",
       "    <tr>\n",
       "      <th>97</th>\n",
       "      <td>97</td>\n",
       "      <td>2097</td>\n",
       "    </tr>\n",
       "    <tr>\n",
       "      <th>98</th>\n",
       "      <td>98</td>\n",
       "      <td>2098</td>\n",
       "    </tr>\n",
       "    <tr>\n",
       "      <th>99</th>\n",
       "      <td>99</td>\n",
       "      <td>2099</td>\n",
       "    </tr>\n",
       "  </tbody>\n",
       "</table>\n",
       "<p>99 rows × 2 columns</p>\n",
       "</div>"
      ],
      "text/plain": [
       "          A     B\n",
       "1   2000000  2001\n",
       "2         2  2002\n",
       "3         3  2003\n",
       "4         4  2004\n",
       "5         5  2005\n",
       "..      ...   ...\n",
       "95       95  2095\n",
       "96       96  2096\n",
       "97       97  2097\n",
       "98       98  2098\n",
       "99       99  2099\n",
       "\n",
       "[99 rows x 2 columns]"
      ]
     },
     "execution_count": 29,
     "metadata": {},
     "output_type": "execute_result"
    }
   ],
   "source": [
    "df1.drop(df1[df1['A']==100000].index, axis=0)"
   ]
  },
  {
   "cell_type": "code",
   "execution_count": 30,
   "id": "b2206b90-cc86-45a6-8f78-b2047cd8f7da",
   "metadata": {},
   "outputs": [
    {
     "data": {
      "text/html": [
       "<div>\n",
       "<style scoped>\n",
       "    .dataframe tbody tr th:only-of-type {\n",
       "        vertical-align: middle;\n",
       "    }\n",
       "\n",
       "    .dataframe tbody tr th {\n",
       "        vertical-align: top;\n",
       "    }\n",
       "\n",
       "    .dataframe thead th {\n",
       "        text-align: right;\n",
       "    }\n",
       "</style>\n",
       "<table border=\"1\" class=\"dataframe\">\n",
       "  <thead>\n",
       "    <tr style=\"text-align: right;\">\n",
       "      <th></th>\n",
       "      <th>A</th>\n",
       "      <th>B</th>\n",
       "    </tr>\n",
       "  </thead>\n",
       "  <tbody>\n",
       "    <tr>\n",
       "      <th>1</th>\n",
       "      <td>2000000</td>\n",
       "      <td>2001</td>\n",
       "    </tr>\n",
       "    <tr>\n",
       "      <th>2</th>\n",
       "      <td>2</td>\n",
       "      <td>2002</td>\n",
       "    </tr>\n",
       "    <tr>\n",
       "      <th>3</th>\n",
       "      <td>3</td>\n",
       "      <td>2003</td>\n",
       "    </tr>\n",
       "    <tr>\n",
       "      <th>4</th>\n",
       "      <td>4</td>\n",
       "      <td>2004</td>\n",
       "    </tr>\n",
       "    <tr>\n",
       "      <th>5</th>\n",
       "      <td>5</td>\n",
       "      <td>2005</td>\n",
       "    </tr>\n",
       "    <tr>\n",
       "      <th>...</th>\n",
       "      <td>...</td>\n",
       "      <td>...</td>\n",
       "    </tr>\n",
       "    <tr>\n",
       "      <th>95</th>\n",
       "      <td>95</td>\n",
       "      <td>2095</td>\n",
       "    </tr>\n",
       "    <tr>\n",
       "      <th>96</th>\n",
       "      <td>96</td>\n",
       "      <td>2096</td>\n",
       "    </tr>\n",
       "    <tr>\n",
       "      <th>97</th>\n",
       "      <td>97</td>\n",
       "      <td>2097</td>\n",
       "    </tr>\n",
       "    <tr>\n",
       "      <th>98</th>\n",
       "      <td>98</td>\n",
       "      <td>2098</td>\n",
       "    </tr>\n",
       "    <tr>\n",
       "      <th>99</th>\n",
       "      <td>99</td>\n",
       "      <td>2099</td>\n",
       "    </tr>\n",
       "  </tbody>\n",
       "</table>\n",
       "<p>99 rows × 2 columns</p>\n",
       "</div>"
      ],
      "text/plain": [
       "          A     B\n",
       "1   2000000  2001\n",
       "2         2  2002\n",
       "3         3  2003\n",
       "4         4  2004\n",
       "5         5  2005\n",
       "..      ...   ...\n",
       "95       95  2095\n",
       "96       96  2096\n",
       "97       97  2097\n",
       "98       98  2098\n",
       "99       99  2099\n",
       "\n",
       "[99 rows x 2 columns]"
      ]
     },
     "execution_count": 30,
     "metadata": {},
     "output_type": "execute_result"
    }
   ],
   "source": [
    "df1 = df1.loc[df1['A'] != 100000] #filter and drop\n",
    "df1"
   ]
  },
  {
   "cell_type": "code",
   "execution_count": 31,
   "id": "63ad3c50-23d0-43a8-8e0d-0342241c34c6",
   "metadata": {},
   "outputs": [
    {
     "name": "stderr",
     "output_type": "stream",
     "text": [
      "C:\\Users\\saip5\\AppData\\Local\\Temp\\ipykernel_12416\\157376447.py:1: SettingWithCopyWarning: \n",
      "A value is trying to be set on a copy of a slice from a DataFrame\n",
      "\n",
      "See the caveats in the documentation: https://pandas.pydata.org/pandas-docs/stable/user_guide/indexing.html#returning-a-view-versus-a-copy\n",
      "  df1.rename(columns={'A':'new_a'},inplace=True)\n"
     ]
    },
    {
     "data": {
      "text/plain": [
       "Index(['new_a', 'B'], dtype='object')"
      ]
     },
     "execution_count": 31,
     "metadata": {},
     "output_type": "execute_result"
    }
   ],
   "source": [
    "df1.rename(columns={'A':'new_a'},inplace=True)\n",
    "df1.columns"
   ]
  },
  {
   "cell_type": "code",
   "execution_count": 32,
   "id": "0f5d2425-ea9f-4912-bf04-949f33ba8c61",
   "metadata": {},
   "outputs": [
    {
     "name": "stdout",
     "output_type": "stream",
     "text": [
      "      NEW_A     B\n",
      "1   2000000  2001\n",
      "2         2  2002\n",
      "3         3  2003\n",
      "4         4  2004\n",
      "5         5  2005\n",
      "..      ...   ...\n",
      "95       95  2095\n",
      "96       96  2096\n",
      "97       97  2097\n",
      "98       98  2098\n",
      "99       99  2099\n",
      "\n",
      "[99 rows x 2 columns]\n"
     ]
    }
   ],
   "source": [
    "print(df1.rename(columns=str.upper))"
   ]
  },
  {
   "cell_type": "code",
   "execution_count": 33,
   "id": "3f54a2c4-84ac-4838-b4b9-9d7dee92887d",
   "metadata": {},
   "outputs": [
    {
     "data": {
      "text/plain": [
       "new_a    int64\n",
       "B        int64\n",
       "dtype: object"
      ]
     },
     "execution_count": 33,
     "metadata": {},
     "output_type": "execute_result"
    }
   ],
   "source": [
    "df1.dtypes"
   ]
  },
  {
   "cell_type": "code",
   "execution_count": 34,
   "id": "b03fae15-6add-431d-a6fe-26e0a5accf9d",
   "metadata": {},
   "outputs": [
    {
     "name": "stderr",
     "output_type": "stream",
     "text": [
      "C:\\Users\\saip5\\AppData\\Local\\Temp\\ipykernel_12416\\1067428253.py:1: SettingWithCopyWarning: \n",
      "A value is trying to be set on a copy of a slice from a DataFrame.\n",
      "Try using .loc[row_indexer,col_indexer] = value instead\n",
      "\n",
      "See the caveats in the documentation: https://pandas.pydata.org/pandas-docs/stable/user_guide/indexing.html#returning-a-view-versus-a-copy\n",
      "  df1['new_a']=df1['new_a'].astype(float)\n"
     ]
    },
    {
     "data": {
      "text/plain": [
       "new_a    float64\n",
       "B          int64\n",
       "dtype: object"
      ]
     },
     "execution_count": 34,
     "metadata": {},
     "output_type": "execute_result"
    }
   ],
   "source": [
    "df1['new_a']=df1['new_a'].astype(float)\n",
    "df1.dtypes"
   ]
  },
  {
   "cell_type": "code",
   "execution_count": 35,
   "id": "752e96d6-9c3c-4e94-885c-b98cbccdb08c",
   "metadata": {},
   "outputs": [
    {
     "data": {
      "text/plain": [
       "0    False\n",
       "1     True\n",
       "2    False\n",
       "dtype: bool"
      ]
     },
     "execution_count": 35,
     "metadata": {},
     "output_type": "execute_result"
    }
   ],
   "source": [
    "df1 = pd.DataFrame({'A': [1, 1, 2], 'B': [3, 3, 4]})\n",
    "df1.duplicated() #identifies duplicate rows"
   ]
  },
  {
   "cell_type": "code",
   "execution_count": 36,
   "id": "11130033-8f9d-45f9-91bf-90e0b18d75dc",
   "metadata": {},
   "outputs": [
    {
     "data": {
      "text/html": [
       "<div>\n",
       "<style scoped>\n",
       "    .dataframe tbody tr th:only-of-type {\n",
       "        vertical-align: middle;\n",
       "    }\n",
       "\n",
       "    .dataframe tbody tr th {\n",
       "        vertical-align: top;\n",
       "    }\n",
       "\n",
       "    .dataframe thead th {\n",
       "        text-align: right;\n",
       "    }\n",
       "</style>\n",
       "<table border=\"1\" class=\"dataframe\">\n",
       "  <thead>\n",
       "    <tr style=\"text-align: right;\">\n",
       "      <th></th>\n",
       "      <th>A</th>\n",
       "      <th>B</th>\n",
       "    </tr>\n",
       "  </thead>\n",
       "  <tbody>\n",
       "    <tr>\n",
       "      <th>0</th>\n",
       "      <td>1</td>\n",
       "      <td>3</td>\n",
       "    </tr>\n",
       "    <tr>\n",
       "      <th>1</th>\n",
       "      <td>1</td>\n",
       "      <td>3</td>\n",
       "    </tr>\n",
       "    <tr>\n",
       "      <th>2</th>\n",
       "      <td>2</td>\n",
       "      <td>4</td>\n",
       "    </tr>\n",
       "  </tbody>\n",
       "</table>\n",
       "</div>"
      ],
      "text/plain": [
       "   A  B\n",
       "0  1  3\n",
       "1  1  3\n",
       "2  2  4"
      ]
     },
     "execution_count": 36,
     "metadata": {},
     "output_type": "execute_result"
    }
   ],
   "source": [
    "df1"
   ]
  },
  {
   "cell_type": "code",
   "execution_count": 37,
   "id": "7e43fbf1-8b09-4c3d-a185-d648af420d3b",
   "metadata": {},
   "outputs": [
    {
     "data": {
      "text/html": [
       "<div>\n",
       "<style scoped>\n",
       "    .dataframe tbody tr th:only-of-type {\n",
       "        vertical-align: middle;\n",
       "    }\n",
       "\n",
       "    .dataframe tbody tr th {\n",
       "        vertical-align: top;\n",
       "    }\n",
       "\n",
       "    .dataframe thead th {\n",
       "        text-align: right;\n",
       "    }\n",
       "</style>\n",
       "<table border=\"1\" class=\"dataframe\">\n",
       "  <thead>\n",
       "    <tr style=\"text-align: right;\">\n",
       "      <th></th>\n",
       "      <th>A</th>\n",
       "      <th>B</th>\n",
       "    </tr>\n",
       "  </thead>\n",
       "  <tbody>\n",
       "    <tr>\n",
       "      <th>1</th>\n",
       "      <td>1</td>\n",
       "      <td>3</td>\n",
       "    </tr>\n",
       "    <tr>\n",
       "      <th>2</th>\n",
       "      <td>2</td>\n",
       "      <td>4</td>\n",
       "    </tr>\n",
       "  </tbody>\n",
       "</table>\n",
       "</div>"
      ],
      "text/plain": [
       "   A  B\n",
       "1  1  3\n",
       "2  2  4"
      ]
     },
     "execution_count": 37,
     "metadata": {},
     "output_type": "execute_result"
    }
   ],
   "source": [
    "df1.drop_duplicates(keep='last')"
   ]
  },
  {
   "cell_type": "code",
   "execution_count": 38,
   "id": "9ea9c624-6a5d-4fda-93b6-d04f33f0d43c",
   "metadata": {},
   "outputs": [
    {
     "data": {
      "text/plain": [
       "3"
      ]
     },
     "execution_count": 38,
     "metadata": {},
     "output_type": "execute_result"
    }
   ],
   "source": [
    "df1['A'].isin([1,2]).sum()"
   ]
  },
  {
   "cell_type": "code",
   "execution_count": 39,
   "id": "455f64d9-31a2-4cf1-a559-5a26910b3651",
   "metadata": {},
   "outputs": [
    {
     "data": {
      "text/plain": [
       "0    ab\n",
       "1    de\n",
       "2    gh\n",
       "Name: A, dtype: object"
      ]
     },
     "execution_count": 39,
     "metadata": {},
     "output_type": "execute_result"
    }
   ],
   "source": [
    "# df1.str.* applies string methods to text column\n",
    "df = pd.DataFrame({'A': ['ABC', 'DEF', 'GHI']})\n",
    "df['A']=df['A'].str.lower()\n",
    "df['A'].str[0:2]"
   ]
  },
  {
   "cell_type": "code",
   "execution_count": 40,
   "id": "d03fab9b-42de-4963-9a97-277ac40e8caa",
   "metadata": {},
   "outputs": [
    {
     "name": "stdout",
     "output_type": "stream",
     "text": [
      "Original:\n",
      "     Name   Age  Score   Text\n",
      "0  Alice  25.0   85.0  UPPER\n",
      "1    Bob   NaN   90.0  lower\n",
      "2   None  30.0    NaN  Mixed\n",
      "3    Bob  25.0   90.0  UPPER\n",
      "\n",
      "Drop NA rows:\n",
      "     Name   Age  Score   Text\n",
      "0  Alice  25.0   85.0  UPPER\n",
      "3    Bob  25.0   90.0  UPPER\n",
      "\n",
      "Fill NA with 0:\n",
      "     Name   Age  Score   Text\n",
      "0  Alice  25.0   85.0  UPPER\n",
      "1    Bob   0.0   90.0  lower\n",
      "2      0  30.0    0.0  Mixed\n",
      "3    Bob  25.0   90.0  UPPER\n",
      "\n",
      "Replace None with 'Unknown':\n",
      "       Name   Age  Score   Text\n",
      "0    Alice  25.0   85.0  UPPER\n",
      "1      Bob   NaN   90.0  lower\n",
      "2  Unknown  30.0    NaN  Mixed\n",
      "3      Bob  25.0   90.0  UPPER\n",
      "\n",
      "Drop 'Score' column:\n",
      "     Name   Age   Text\n",
      "0  Alice  25.0  UPPER\n",
      "1    Bob   NaN  lower\n",
      "2   None  30.0  Mixed\n",
      "3    Bob  25.0  UPPER\n",
      "\n",
      "Rename 'Age' to 'Years':\n",
      "     Name  Years   Text\n",
      "0  Alice   25.0  UPPER\n",
      "1    Bob    NaN  lower\n",
      "2   None   30.0  Mixed\n",
      "3    Bob   25.0  UPPER\n",
      "\n",
      "Years as Float64:\n",
      "     Name  Years   Text\n",
      "0  Alice   25.0  UPPER\n",
      "1    Bob   <NA>  lower\n",
      "2   None   30.0  Mixed\n",
      "3    Bob   25.0  UPPER\n",
      "\n",
      "Duplicates:\n",
      " 0    False\n",
      "1    False\n",
      "2    False\n",
      "3    False\n",
      "dtype: bool\n",
      "\n",
      "Drop duplicates:\n",
      "     Name  Years   Text\n",
      "0  Alice   25.0  UPPER\n",
      "1    Bob   <NA>  lower\n",
      "2   None   30.0  Mixed\n",
      "3    Bob   25.0  UPPER\n",
      "\n",
      "Names in ['Alice', 'Bob']:\n",
      " 0     True\n",
      "1     True\n",
      "2    False\n",
      "3     True\n",
      "Name: Name, dtype: bool\n",
      "\n",
      "Text to lowercase:\n",
      "     Name  Years   Text\n",
      "0  Alice   25.0  upper\n",
      "1    Bob   <NA>  lower\n",
      "2   None   30.0  mixed\n",
      "3    Bob   25.0  upper\n"
     ]
    }
   ],
   "source": [
    "# practice\n",
    "import pandas as pd\n",
    "import numpy as np\n",
    "\n",
    "# Create a messy DataFrame\n",
    "df = pd.DataFrame({\n",
    "    'Name': ['Alice', 'Bob', None, 'Bob'],\n",
    "    'Age': [25, None, 30, 25],\n",
    "    'Score': [85, 90, None, 90],\n",
    "    'Text': ['UPPER', 'lower', 'Mixed', 'UPPER']\n",
    "})\n",
    "\n",
    "# Clean it\n",
    "print(\"Original:\\n\", df)\n",
    "print(\"\\nDrop NA rows:\\n\", df.dropna())\n",
    "print(\"\\nFill NA with 0:\\n\", df.fillna(0))\n",
    "print(\"\\nReplace None with 'Unknown':\\n\", df.replace({None: 'Unknown'}))\n",
    "df.drop('Score', axis=1, inplace=True)\n",
    "print(\"\\nDrop 'Score' column:\\n\", df)\n",
    "df.rename(columns={'Age': 'Years'}, inplace=True)\n",
    "print(\"\\nRename 'Age' to 'Years':\\n\", df)\n",
    "df['Years'] = df['Years'].astype('Float64')\n",
    "print(\"\\nYears as Float64:\\n\", df)\n",
    "print(\"\\nDuplicates:\\n\", df.duplicated())\n",
    "df.drop_duplicates(inplace=True)\n",
    "print(\"\\nDrop duplicates:\\n\", df)\n",
    "print(\"\\nNames in ['Alice', 'Bob']:\\n\", df['Name'].isin(['Alice', 'Bob']))\n",
    "df['Text'] = df['Text'].str.lower()\n",
    "print(\"\\nText to lowercase:\\n\", df)"
   ]
  },
  {
   "cell_type": "markdown",
   "id": "9e316592-e412-43f8-a89f-4e8a7e4c874f",
   "metadata": {},
   "source": [
    "<h3>Aggregation and Grouping</h3>\n",
    "These are Powerful tools for summarizing data, calculating statistics, and exploring relationships within your dataset."
   ]
  },
  {
   "cell_type": "code",
   "execution_count": 41,
   "id": "bc2c0a38-44cb-4ada-be6a-9139c20dfd1e",
   "metadata": {},
   "outputs": [
    {
     "name": "stdout",
     "output_type": "stream",
     "text": [
      "     B\n",
      "A     \n",
      "bar  6\n",
      "foo  4\n"
     ]
    }
   ],
   "source": [
    "import pandas as pd\n",
    "df = pd.DataFrame({'A': ['foo', 'bar', 'foo', 'bar'], 'B': [1, 2, 3, 4]})\n",
    "print(df.groupby('A').sum())"
   ]
  },
  {
   "cell_type": "code",
   "execution_count": 42,
   "id": "66097f01-0897-4460-9b71-b283e5fb8b89",
   "metadata": {},
   "outputs": [
    {
     "name": "stdout",
     "output_type": "stream",
     "text": [
      "               Value\n",
      "Category Type       \n",
      "A        X        10\n",
      "         Y        20\n",
      "B        X        30\n",
      "         Y        40\n"
     ]
    }
   ],
   "source": [
    "df = pd.DataFrame({\n",
    "    'Category': ['A', 'A', 'B', 'B'],\n",
    "    'Type': ['X', 'Y', 'X', 'Y'],\n",
    "    'Value': [10, 20, 30, 40]\n",
    "})\n",
    "print(df.groupby(['Category', 'Type']).sum()) #multiple columns"
   ]
  },
  {
   "cell_type": "code",
   "execution_count": 43,
   "id": "0b0259d1-99ac-4e98-ae9f-3b076eede14e",
   "metadata": {},
   "outputs": [
    {
     "data": {
      "text/html": [
       "<div>\n",
       "<style scoped>\n",
       "    .dataframe tbody tr th:only-of-type {\n",
       "        vertical-align: middle;\n",
       "    }\n",
       "\n",
       "    .dataframe tbody tr th {\n",
       "        vertical-align: top;\n",
       "    }\n",
       "\n",
       "    .dataframe thead th {\n",
       "        text-align: right;\n",
       "    }\n",
       "</style>\n",
       "<table border=\"1\" class=\"dataframe\">\n",
       "  <thead>\n",
       "    <tr style=\"text-align: right;\">\n",
       "      <th></th>\n",
       "      <th>Type</th>\n",
       "      <th>Value</th>\n",
       "    </tr>\n",
       "    <tr>\n",
       "      <th>Category</th>\n",
       "      <th></th>\n",
       "      <th></th>\n",
       "    </tr>\n",
       "  </thead>\n",
       "  <tbody>\n",
       "    <tr>\n",
       "      <th>A</th>\n",
       "      <td>2</td>\n",
       "      <td>2</td>\n",
       "    </tr>\n",
       "    <tr>\n",
       "      <th>B</th>\n",
       "      <td>2</td>\n",
       "      <td>2</td>\n",
       "    </tr>\n",
       "  </tbody>\n",
       "</table>\n",
       "</div>"
      ],
      "text/plain": [
       "          Type  Value\n",
       "Category             \n",
       "A            2      2\n",
       "B            2      2"
      ]
     },
     "execution_count": 43,
     "metadata": {},
     "output_type": "execute_result"
    }
   ],
   "source": [
    "df.groupby('Category').count()"
   ]
  },
  {
   "cell_type": "code",
   "execution_count": 44,
   "id": "8d3b882e-4df4-4df7-b296-15faf04a2031",
   "metadata": {},
   "outputs": [
    {
     "data": {
      "text/html": [
       "<div>\n",
       "<style scoped>\n",
       "    .dataframe tbody tr th:only-of-type {\n",
       "        vertical-align: middle;\n",
       "    }\n",
       "\n",
       "    .dataframe tbody tr th {\n",
       "        vertical-align: top;\n",
       "    }\n",
       "\n",
       "    .dataframe thead th {\n",
       "        text-align: right;\n",
       "    }\n",
       "</style>\n",
       "<table border=\"1\" class=\"dataframe\">\n",
       "  <thead>\n",
       "    <tr style=\"text-align: right;\">\n",
       "      <th></th>\n",
       "      <th>Type</th>\n",
       "      <th>Value</th>\n",
       "    </tr>\n",
       "    <tr>\n",
       "      <th>Category</th>\n",
       "      <th></th>\n",
       "      <th></th>\n",
       "    </tr>\n",
       "  </thead>\n",
       "  <tbody>\n",
       "    <tr>\n",
       "      <th>A</th>\n",
       "      <td>2</td>\n",
       "      <td>15.0</td>\n",
       "    </tr>\n",
       "    <tr>\n",
       "      <th>B</th>\n",
       "      <td>2</td>\n",
       "      <td>35.0</td>\n",
       "    </tr>\n",
       "  </tbody>\n",
       "</table>\n",
       "</div>"
      ],
      "text/plain": [
       "          Type  Value\n",
       "Category             \n",
       "A            2   15.0\n",
       "B            2   35.0"
      ]
     },
     "execution_count": 44,
     "metadata": {},
     "output_type": "execute_result"
    }
   ],
   "source": [
    "#df.agg() applies one or more aggregation functions to grouped or ungrouped data.\n",
    "df.groupby('Category').agg({'Type':'count','Value':'mean'})"
   ]
  },
  {
   "cell_type": "code",
   "execution_count": 45,
   "id": "1a8de5ba-f685-4092-9fef-20baacdd6d3b",
   "metadata": {},
   "outputs": [
    {
     "name": "stdout",
     "output_type": "stream",
     "text": [
      "      B\n",
      "A      \n",
      "bar  52\n",
      "foo   2\n"
     ]
    }
   ],
   "source": [
    "df = pd.DataFrame({'A': ['foo', 'bar', 'foo', 'bar'], 'B': [1, 12, 3, 64]})\n",
    "def range_function(x):\n",
    "    return x.max()-x.min()\n",
    "print(df.groupby('A').agg({'B':range_function}))"
   ]
  },
  {
   "cell_type": "code",
   "execution_count": 46,
   "id": "d5d65622-d0c7-4d8e-a3f6-739ef70fb7ac",
   "metadata": {},
   "outputs": [],
   "source": [
    "#syntax: df.pivote_table(values,index, columns=None, aggfunc='mean')"
   ]
  },
  {
   "cell_type": "code",
   "execution_count": 47,
   "id": "7e288507-7b07-4283-8716-87ac01a7f3f9",
   "metadata": {},
   "outputs": [
    {
     "name": "stdout",
     "output_type": "stream",
     "text": [
      "    sum mean        std   var max min\n",
      "      B    B          B     B   B   B\n",
      "A                                    \n",
      "bar  76   38  36.769553  1352  64  12\n",
      "foo   4    2   1.414214     2   3   1\n"
     ]
    }
   ],
   "source": [
    "print(df.pivot_table(values='B', index='A', aggfunc=['sum','mean','std','var','max','min']))"
   ]
  },
  {
   "cell_type": "code",
   "execution_count": 48,
   "id": "a292792e-0947-4309-bbff-7ef1137ecc0d",
   "metadata": {},
   "outputs": [
    {
     "data": {
      "text/plain": [
       "' is useful when you want to summarize categrical data and understand relationship between two or more categorical \\nvariables '"
      ]
     },
     "execution_count": 48,
     "metadata": {},
     "output_type": "execute_result"
    }
   ],
   "source": [
    "#df.crosstab() computes a cross-tabulation of two or more factors( like a frequency table)\n",
    "df = pd.DataFrame({'A': ['foo', 'foo', 'bar'], 'B': ['x', 'y', 'x']})\n",
    "pd.crosstab(df['A'],df['B'])\n",
    "''' is useful when you want to summarize categrical data and understand relationship between two or more categorical \n",
    "variables '''"
   ]
  },
  {
   "cell_type": "code",
   "execution_count": 49,
   "id": "9d516815-d7cf-43a2-89ef-8c6a9dec558b",
   "metadata": {},
   "outputs": [
    {
     "name": "stdout",
     "output_type": "stream",
     "text": [
      "Gender       Female     Male\n",
      "Department                  \n",
      "Finance     60000.0  80000.0\n",
      "HR          55000.0  50000.0\n",
      "IT              NaN  70000.0\n"
     ]
    }
   ],
   "source": [
    "df = pd.DataFrame({\n",
    "    'Department': ['HR', 'Finance', 'HR', 'IT', 'Finance'],\n",
    "    'Gender': ['Male', 'Female', 'Female', 'Male', 'Male'],\n",
    "    'Salary': [50000, 60000, 55000, 70000, 80000]\n",
    "})\n",
    "\n",
    "# Aggregating salaries by department and gender\n",
    "print(pd.crosstab(df['Department'], df['Gender'], values=df['Salary'], aggfunc='mean'))\n"
   ]
  },
  {
   "cell_type": "code",
   "execution_count": 50,
   "id": "99fd3618-a9cc-4248-aa12-93a8ba580da3",
   "metadata": {},
   "outputs": [
    {
     "name": "stdout",
     "output_type": "stream",
     "text": [
      "Pass    No  Yes\n",
      "Gender         \n",
      "F        2    0\n",
      "M        0    2\n"
     ]
    }
   ],
   "source": [
    "df = pd.DataFrame({\n",
    "    'Gender': ['M', 'F', 'M', 'F'],\n",
    "    'Pass': ['Yes', 'No', 'Yes', 'No']\n",
    "})\n",
    "print(pd.crosstab(df['Gender'], df['Pass']))"
   ]
  },
  {
   "cell_type": "code",
   "execution_count": 51,
   "id": "00f675ca-290e-4baf-8c7b-58995ae20baf",
   "metadata": {},
   "outputs": [
    {
     "name": "stdout",
     "output_type": "stream",
     "text": [
      "2.0\n",
      "2.0\n",
      "0    1\n",
      "1    2\n",
      "2    3\n",
      "Name: A, dtype: int64\n",
      "mean      5.0\n",
      "median    5.0\n",
      "min       4.0\n",
      "max       6.0\n",
      "Name: B, dtype: float64\n"
     ]
    }
   ],
   "source": [
    "#basic statistics\n",
    "df = pd.DataFrame({'A': [1, 2, 3], 'B': [4, 5, 6]})\n",
    "print(df['A'].mean())\n",
    "print(df['A'].median())\n",
    "print(df['A'].mode()) #aggfunc is typically used with functions like crosstab() or pivot_table()\n",
    "print(df['B'].agg(['mean', 'median', 'min', 'max']))"
   ]
  },
  {
   "cell_type": "code",
   "execution_count": 52,
   "id": "b3f13f95-6835-4657-8da6-bb6d869cd129",
   "metadata": {},
   "outputs": [
    {
     "name": "stdout",
     "output_type": "stream",
     "text": [
      "2.0\n"
     ]
    }
   ],
   "source": [
    "df = pd.DataFrame({'A': [1, 2, 3], 'B': [4, 5, 6]})\n",
    "print(df['A'].mean())"
   ]
  },
  {
   "cell_type": "code",
   "execution_count": 53,
   "id": "b458c806-385c-43f4-b3da-1e083f012bd4",
   "metadata": {},
   "outputs": [
    {
     "name": "stdout",
     "output_type": "stream",
     "text": [
      "6\n"
     ]
    }
   ],
   "source": [
    "print(df['A'].sum())"
   ]
  },
  {
   "cell_type": "code",
   "execution_count": 54,
   "id": "ac0ab38c-9f00-48f1-a0b9-c437e28dde7f",
   "metadata": {},
   "outputs": [
    {
     "name": "stdout",
     "output_type": "stream",
     "text": [
      "A    3\n",
      "B    6\n",
      "dtype: int64\n"
     ]
    }
   ],
   "source": [
    "print(df.max())"
   ]
  },
  {
   "cell_type": "code",
   "execution_count": 55,
   "id": "e8889bd3-5c14-4219-882e-8ecfc72c3e5d",
   "metadata": {},
   "outputs": [
    {
     "name": "stdout",
     "output_type": "stream",
     "text": [
      "A    1.0\n",
      "B    1.0\n",
      "dtype: float64\n"
     ]
    }
   ],
   "source": [
    "print(df.std())"
   ]
  },
  {
   "cell_type": "code",
   "execution_count": 56,
   "id": "1032245b-376e-4072-b276-83338363bf33",
   "metadata": {},
   "outputs": [
    {
     "name": "stdout",
     "output_type": "stream",
     "text": [
      "2\n"
     ]
    }
   ],
   "source": [
    "df = pd.DataFrame({'A': [1, None, 3], 'B': [4, 5, 6]})\n",
    "print(df['A'].count())"
   ]
  },
  {
   "cell_type": "markdown",
   "id": "6d1314ca-ebd0-4bb2-ba28-5ac3f09760d1",
   "metadata": {},
   "source": [
    "<h4>Get the first or last value from each group (often used with time-series).</h4>"
   ]
  },
  {
   "cell_type": "code",
   "execution_count": 57,
   "id": "a5f890ee-c9d2-43ad-b4ac-5afac902f1aa",
   "metadata": {},
   "outputs": [
    {
     "name": "stdout",
     "output_type": "stream",
     "text": [
      "       Value\n",
      "Group       \n",
      "X         20\n",
      "Y         30\n"
     ]
    }
   ],
   "source": [
    "df = pd.DataFrame({\n",
    "    'Group': ['X', 'X', 'Y'],\n",
    "    'Value': [10, 20, 30]\n",
    "})\n",
    "print(df.groupby('Group').last())"
   ]
  },
  {
   "cell_type": "code",
   "execution_count": 58,
   "id": "a9d635d6-095c-4851-8457-04642780bb27",
   "metadata": {},
   "outputs": [
    {
     "name": "stdout",
     "output_type": "stream",
     "text": [
      "     B\n",
      "A     \n",
      "bar  2\n",
      "foo  1\n"
     ]
    }
   ],
   "source": [
    "df = pd.DataFrame({'A': ['foo', 'bar', 'foo'], 'B': [1, 2, 3]})\n",
    "print(df.groupby('A').first())"
   ]
  },
  {
   "cell_type": "code",
   "execution_count": 59,
   "id": "b2f186af-4c2f-4567-9781-4d12494579d7",
   "metadata": {},
   "outputs": [
    {
     "name": "stdout",
     "output_type": "stream",
     "text": [
      "Group by Category (sum):\n",
      "          Type  Value  Score\n",
      "Category                   \n",
      "A         XYX     45    263\n",
      "B          XY     70    175\n",
      "\n",
      "Agg with multiple functions:\n",
      "           Value      Score\n",
      "Category                  \n",
      "A            45  87.666667\n",
      "B            70  87.500000\n",
      "\n",
      "Pivot table:\n",
      " Type         X     Y\n",
      "Category            \n",
      "A         12.5  20.0\n",
      "B         30.0  40.0\n",
      "\n",
      "Crosstab:\n",
      " Type      X  Y\n",
      "Category      \n",
      "A         2  1\n",
      "B         1  1\n",
      "\n",
      "Mean of Value: 23.0\n",
      "\n",
      "Max per column:\n",
      " Category     B\n",
      "Type         Y\n",
      "Value       40\n",
      "Score       95\n",
      "dtype: object\n",
      "\n",
      "Count non-null:\n",
      " Category    5\n",
      "Type        5\n",
      "Value       5\n",
      "Score       5\n",
      "dtype: int64\n",
      "\n",
      "First in each group:\n",
      "          Type  Value  Score\n",
      "Category                   \n",
      "A           X     10     85\n",
      "B           X     30     95\n"
     ]
    }
   ],
   "source": [
    "#practice\n",
    "import pandas as pd\n",
    "\n",
    "# Create a DataFrame\n",
    "df = pd.DataFrame({\n",
    "    'Category': ['A', 'A', 'B', 'B', 'A'],\n",
    "    'Type': ['X', 'Y', 'X', 'Y', 'X'],\n",
    "    'Value': [10, 20, 30, 40, 15],\n",
    "    'Score': [85, 90, 95, 80, 88]\n",
    "})\n",
    "\n",
    "# Aggregation and Grouping\n",
    "print(\"Group by Category (sum):\\n\", df.groupby('Category').sum())\n",
    "print(\"\\nAgg with multiple functions:\\n\", df.groupby('Category').agg({'Value': 'sum', 'Score': 'mean'}))\n",
    "print(\"\\nPivot table:\\n\", df.pivot_table(values='Value', index='Category', columns='Type', aggfunc='mean'))\n",
    "print(\"\\nCrosstab:\\n\", pd.crosstab(df['Category'], df['Type']))\n",
    "print(\"\\nMean of Value:\", df['Value'].mean())\n",
    "print(\"\\nMax per column:\\n\", df.max())\n",
    "print(\"\\nCount non-null:\\n\", df.count())\n",
    "print(\"\\nFirst in each group:\\n\", df.groupby('Category').first())"
   ]
  },
  {
   "cell_type": "markdown",
   "id": "66e0fc22",
   "metadata": {},
   "source": [
    "<h3>Merging, Joining, and Concatenating</h3>\n",
    "Combining datasets is a common task in data analysis. These methods allow you to integrate data from different souces based on rows, columns, or specific keys."
   ]
  },
  {
   "cell_type": "code",
   "execution_count": 65,
   "id": "a7d26b9c",
   "metadata": {},
   "outputs": [
    {
     "name": "stdout",
     "output_type": "stream",
     "text": [
      "  key    A  B\n",
      "0  K0  1.0  3\n",
      "1  K1  NaN  4\n"
     ]
    }
   ],
   "source": [
    "import pandas as pd\n",
    "df1 = pd.DataFrame({'key': ['K0', 'K2'], 'A': [1, 2]})\n",
    "df2 = pd.DataFrame({'key': ['K0', 'K1'], 'B': [3, 4]})\n",
    "df_merged=pd.merge(df1,df2, on='key',how='right') #df.merge(right, on='colum_in_same',how='inner/outer/righ/left',suffixes=('_x','_y'))\n",
    "print(df_merged)"
   ]
  },
  {
   "cell_type": "code",
   "execution_count": 66,
   "id": "5c28940a",
   "metadata": {},
   "outputs": [
    {
     "name": "stdout",
     "output_type": "stream",
     "text": [
      "   ID     Name  Score\n",
      "0   1    Alice    NaN\n",
      "1   2      Bob   90.0\n",
      "2   3  Charlie    NaN\n"
     ]
    }
   ],
   "source": [
    "df1 = pd.DataFrame({'ID': [1, 2, 3], 'Name': ['Alice', 'Bob', 'Charlie']})\n",
    "df2 = pd.DataFrame({'ID': [2, 4], 'Score': [90, 85]})\n",
    "print(pd.merge(df1, df2, on='ID', how='left'))"
   ]
  },
  {
   "cell_type": "code",
   "execution_count": 102,
   "id": "503fa21d",
   "metadata": {},
   "outputs": [
    {
     "name": "stdout",
     "output_type": "stream",
     "text": [
      "  key  value_left  value_right\n",
      "0   A         1.0          3.0\n",
      "1   B         2.0          NaN\n",
      "2   C         NaN          4.0\n"
     ]
    }
   ],
   "source": [
    "df1 = pd.DataFrame({'key': ['A', 'B'], 'value': [1, 2]})\n",
    "df2 = pd.DataFrame({'key': ['A', 'C'], 'value': [3, 4]})\n",
    "print(pd.merge(df1, df2, on='key', how='outer', suffixes=('_left', '_right')))"
   ]
  },
  {
   "cell_type": "code",
   "execution_count": 113,
   "id": "9ffb62b2",
   "metadata": {},
   "outputs": [],
   "source": [
    "df1 = pd.DataFrame({'key': ['A', 'B'], 'value': [1, 2]})\n",
    "df2 = pd.DataFrame({'key': ['A', 'C'], 'value': [3, 4]})"
   ]
  },
  {
   "cell_type": "code",
   "execution_count": 118,
   "id": "aa7b1682",
   "metadata": {},
   "outputs": [
    {
     "data": {
      "text/html": [
       "<div>\n",
       "<style scoped>\n",
       "    .dataframe tbody tr th:only-of-type {\n",
       "        vertical-align: middle;\n",
       "    }\n",
       "\n",
       "    .dataframe tbody tr th {\n",
       "        vertical-align: top;\n",
       "    }\n",
       "\n",
       "    .dataframe thead th {\n",
       "        text-align: right;\n",
       "    }\n",
       "</style>\n",
       "<table border=\"1\" class=\"dataframe\">\n",
       "  <thead>\n",
       "    <tr style=\"text-align: right;\">\n",
       "      <th></th>\n",
       "      <th>key</th>\n",
       "      <th>value</th>\n",
       "    </tr>\n",
       "  </thead>\n",
       "  <tbody>\n",
       "    <tr>\n",
       "      <th>0</th>\n",
       "      <td>A</td>\n",
       "      <td>1</td>\n",
       "    </tr>\n",
       "    <tr>\n",
       "      <th>1</th>\n",
       "      <td>B</td>\n",
       "      <td>2</td>\n",
       "    </tr>\n",
       "    <tr>\n",
       "      <th>0</th>\n",
       "      <td>A</td>\n",
       "      <td>3</td>\n",
       "    </tr>\n",
       "    <tr>\n",
       "      <th>1</th>\n",
       "      <td>C</td>\n",
       "      <td>4</td>\n",
       "    </tr>\n",
       "  </tbody>\n",
       "</table>\n",
       "</div>"
      ],
      "text/plain": [
       "  key  value\n",
       "0   A      1\n",
       "1   B      2\n",
       "0   A      3\n",
       "1   C      4"
      ]
     },
     "execution_count": 118,
     "metadata": {},
     "output_type": "execute_result"
    }
   ],
   "source": [
    "pd.concat([df1,df2],axis=0)"
   ]
  },
  {
   "cell_type": "code",
   "execution_count": 134,
   "id": "31308fac",
   "metadata": {},
   "outputs": [
    {
     "name": "stdout",
     "output_type": "stream",
     "text": [
      "   A    B\n",
      "x  1  NaN\n",
      "y  2  3.0\n"
     ]
    }
   ],
   "source": [
    "df1 = pd.DataFrame({'A': [1, 2]}, index=['x', 'y'])\n",
    "df2 = pd.DataFrame({'B': [3, 4]}, index=['y', 'z'])\n",
    "print(df1.join(df2,how=\"left\"))"
   ]
  },
  {
   "cell_type": "code",
   "execution_count": 148,
   "id": "453f201f",
   "metadata": {},
   "outputs": [
    {
     "data": {
      "text/html": [
       "<div>\n",
       "<style scoped>\n",
       "    .dataframe tbody tr th:only-of-type {\n",
       "        vertical-align: middle;\n",
       "    }\n",
       "\n",
       "    .dataframe tbody tr th {\n",
       "        vertical-align: top;\n",
       "    }\n",
       "\n",
       "    .dataframe thead th {\n",
       "        text-align: right;\n",
       "    }\n",
       "</style>\n",
       "<table border=\"1\" class=\"dataframe\">\n",
       "  <thead>\n",
       "    <tr style=\"text-align: right;\">\n",
       "      <th></th>\n",
       "      <th>A</th>\n",
       "      <th>B</th>\n",
       "    </tr>\n",
       "  </thead>\n",
       "  <tbody>\n",
       "    <tr>\n",
       "      <th>x</th>\n",
       "      <td>1.0</td>\n",
       "      <td>NaN</td>\n",
       "    </tr>\n",
       "    <tr>\n",
       "      <th>y</th>\n",
       "      <td>2.0</td>\n",
       "      <td>NaN</td>\n",
       "    </tr>\n",
       "    <tr>\n",
       "      <th>y</th>\n",
       "      <td>NaN</td>\n",
       "      <td>3.0</td>\n",
       "    </tr>\n",
       "    <tr>\n",
       "      <th>z</th>\n",
       "      <td>NaN</td>\n",
       "      <td>4.0</td>\n",
       "    </tr>\n",
       "  </tbody>\n",
       "</table>\n",
       "</div>"
      ],
      "text/plain": [
       "     A    B\n",
       "x  1.0  NaN\n",
       "y  2.0  NaN\n",
       "y  NaN  3.0\n",
       "z  NaN  4.0"
      ]
     },
     "execution_count": 148,
     "metadata": {},
     "output_type": "execute_result"
    }
   ],
   "source": [
    "pd.concat([df1,df2],axis=0)"
   ]
  },
  {
   "cell_type": "markdown",
   "id": "2c1c0c4d",
   "metadata": {},
   "source": [
    "<h3>Sorting and Ranking</h3>\n",
    "It helps you organize your data for analysis, visualization, or reporting.\n",
    "these methods allow you to reorder rows or columns."
   ]
  },
  {
   "cell_type": "code",
   "execution_count": 10,
   "id": "863a2efb",
   "metadata": {},
   "outputs": [
    {
     "data": {
      "text/html": [
       "<div>\n",
       "<style scoped>\n",
       "    .dataframe tbody tr th:only-of-type {\n",
       "        vertical-align: middle;\n",
       "    }\n",
       "\n",
       "    .dataframe tbody tr th {\n",
       "        vertical-align: top;\n",
       "    }\n",
       "\n",
       "    .dataframe thead th {\n",
       "        text-align: right;\n",
       "    }\n",
       "</style>\n",
       "<table border=\"1\" class=\"dataframe\">\n",
       "  <thead>\n",
       "    <tr style=\"text-align: right;\">\n",
       "      <th></th>\n",
       "      <th>A</th>\n",
       "      <th>B</th>\n",
       "    </tr>\n",
       "  </thead>\n",
       "  <tbody>\n",
       "    <tr>\n",
       "      <th>0</th>\n",
       "      <td>3</td>\n",
       "      <td>6</td>\n",
       "    </tr>\n",
       "    <tr>\n",
       "      <th>2</th>\n",
       "      <td>2</td>\n",
       "      <td>5</td>\n",
       "    </tr>\n",
       "    <tr>\n",
       "      <th>1</th>\n",
       "      <td>1</td>\n",
       "      <td>4</td>\n",
       "    </tr>\n",
       "  </tbody>\n",
       "</table>\n",
       "</div>"
      ],
      "text/plain": [
       "   A  B\n",
       "0  3  6\n",
       "2  2  5\n",
       "1  1  4"
      ]
     },
     "execution_count": 10,
     "metadata": {},
     "output_type": "execute_result"
    }
   ],
   "source": [
    "import pandas as pd\n",
    "df=pd.DataFrame({'A': [3, 1, 2], 'B': [6, 4, 5]})\n",
    "df.sort_values('A', ascending=False,inplace=True)\n",
    "df"
   ]
  },
  {
   "cell_type": "code",
   "execution_count": 14,
   "id": "2520b1d3",
   "metadata": {},
   "outputs": [
    {
     "data": {
      "text/html": [
       "<div>\n",
       "<style scoped>\n",
       "    .dataframe tbody tr th:only-of-type {\n",
       "        vertical-align: middle;\n",
       "    }\n",
       "\n",
       "    .dataframe tbody tr th {\n",
       "        vertical-align: top;\n",
       "    }\n",
       "\n",
       "    .dataframe thead th {\n",
       "        text-align: right;\n",
       "    }\n",
       "</style>\n",
       "<table border=\"1\" class=\"dataframe\">\n",
       "  <thead>\n",
       "    <tr style=\"text-align: right;\">\n",
       "      <th></th>\n",
       "      <th>A</th>\n",
       "      <th>B</th>\n",
       "    </tr>\n",
       "  </thead>\n",
       "  <tbody>\n",
       "    <tr>\n",
       "      <th>1</th>\n",
       "      <td>1</td>\n",
       "      <td>4</td>\n",
       "    </tr>\n",
       "    <tr>\n",
       "      <th>2</th>\n",
       "      <td>2</td>\n",
       "      <td>5</td>\n",
       "    </tr>\n",
       "    <tr>\n",
       "      <th>0</th>\n",
       "      <td>3</td>\n",
       "      <td>6</td>\n",
       "    </tr>\n",
       "  </tbody>\n",
       "</table>\n",
       "</div>"
      ],
      "text/plain": [
       "   A  B\n",
       "1  1  4\n",
       "2  2  5\n",
       "0  3  6"
      ]
     },
     "execution_count": 14,
     "metadata": {},
     "output_type": "execute_result"
    }
   ],
   "source": [
    "df.sort_values(['A','B'],ascending=[True,False])"
   ]
  },
  {
   "cell_type": "code",
   "execution_count": 15,
   "id": "66ae73e5",
   "metadata": {},
   "outputs": [
    {
     "data": {
      "text/html": [
       "<div>\n",
       "<style scoped>\n",
       "    .dataframe tbody tr th:only-of-type {\n",
       "        vertical-align: middle;\n",
       "    }\n",
       "\n",
       "    .dataframe tbody tr th {\n",
       "        vertical-align: top;\n",
       "    }\n",
       "\n",
       "    .dataframe thead th {\n",
       "        text-align: right;\n",
       "    }\n",
       "</style>\n",
       "<table border=\"1\" class=\"dataframe\">\n",
       "  <thead>\n",
       "    <tr style=\"text-align: right;\">\n",
       "      <th></th>\n",
       "      <th>A</th>\n",
       "      <th>B</th>\n",
       "    </tr>\n",
       "  </thead>\n",
       "  <tbody>\n",
       "    <tr>\n",
       "      <th>2</th>\n",
       "      <td>2</td>\n",
       "      <td>5</td>\n",
       "    </tr>\n",
       "    <tr>\n",
       "      <th>1</th>\n",
       "      <td>1</td>\n",
       "      <td>4</td>\n",
       "    </tr>\n",
       "    <tr>\n",
       "      <th>0</th>\n",
       "      <td>3</td>\n",
       "      <td>6</td>\n",
       "    </tr>\n",
       "  </tbody>\n",
       "</table>\n",
       "</div>"
      ],
      "text/plain": [
       "   A  B\n",
       "2  2  5\n",
       "1  1  4\n",
       "0  3  6"
      ]
     },
     "execution_count": 15,
     "metadata": {},
     "output_type": "execute_result"
    }
   ],
   "source": [
    "df.sort_index(ascending=False)"
   ]
  },
  {
   "cell_type": "code",
   "execution_count": 17,
   "id": "8071e4f2",
   "metadata": {},
   "outputs": [
    {
     "data": {
      "text/html": [
       "<div>\n",
       "<style scoped>\n",
       "    .dataframe tbody tr th:only-of-type {\n",
       "        vertical-align: middle;\n",
       "    }\n",
       "\n",
       "    .dataframe tbody tr th {\n",
       "        vertical-align: top;\n",
       "    }\n",
       "\n",
       "    .dataframe thead th {\n",
       "        text-align: right;\n",
       "    }\n",
       "</style>\n",
       "<table border=\"1\" class=\"dataframe\">\n",
       "  <thead>\n",
       "    <tr style=\"text-align: right;\">\n",
       "      <th></th>\n",
       "      <th>A</th>\n",
       "      <th>B</th>\n",
       "    </tr>\n",
       "  </thead>\n",
       "  <tbody>\n",
       "    <tr>\n",
       "      <th>0</th>\n",
       "      <td>3</td>\n",
       "      <td>6</td>\n",
       "    </tr>\n",
       "    <tr>\n",
       "      <th>1</th>\n",
       "      <td>1</td>\n",
       "      <td>4</td>\n",
       "    </tr>\n",
       "    <tr>\n",
       "      <th>2</th>\n",
       "      <td>2</td>\n",
       "      <td>5</td>\n",
       "    </tr>\n",
       "  </tbody>\n",
       "</table>\n",
       "</div>"
      ],
      "text/plain": [
       "   A  B\n",
       "0  3  6\n",
       "1  1  4\n",
       "2  2  5"
      ]
     },
     "execution_count": 17,
     "metadata": {},
     "output_type": "execute_result"
    }
   ],
   "source": [
    "df.sort_index(ascending=True, inplace=True)\n",
    "df"
   ]
  },
  {
   "cell_type": "code",
   "execution_count": 32,
   "id": "2547cb07",
   "metadata": {},
   "outputs": [],
   "source": [
    "data = {\n",
    "    'Name': ['Alice', 'Bob', 'Charlie', 'David', 'Eve', 'Frank'],\n",
    "    'Score': [85, 92, 88, 92, 79, 88]\n",
    "}\n",
    "df=pd.DataFrame(data)\n",
    "df.sort_values('Score',inplace=True)"
   ]
  },
  {
   "cell_type": "code",
   "execution_count": 33,
   "id": "9a3c1f49",
   "metadata": {},
   "outputs": [
    {
     "data": {
      "text/html": [
       "<div>\n",
       "<style scoped>\n",
       "    .dataframe tbody tr th:only-of-type {\n",
       "        vertical-align: middle;\n",
       "    }\n",
       "\n",
       "    .dataframe tbody tr th {\n",
       "        vertical-align: top;\n",
       "    }\n",
       "\n",
       "    .dataframe thead th {\n",
       "        text-align: right;\n",
       "    }\n",
       "</style>\n",
       "<table border=\"1\" class=\"dataframe\">\n",
       "  <thead>\n",
       "    <tr style=\"text-align: right;\">\n",
       "      <th></th>\n",
       "      <th>Name</th>\n",
       "      <th>Score</th>\n",
       "      <th>average_rank</th>\n",
       "    </tr>\n",
       "  </thead>\n",
       "  <tbody>\n",
       "    <tr>\n",
       "      <th>4</th>\n",
       "      <td>Eve</td>\n",
       "      <td>79</td>\n",
       "      <td>1.0</td>\n",
       "    </tr>\n",
       "    <tr>\n",
       "      <th>0</th>\n",
       "      <td>Alice</td>\n",
       "      <td>85</td>\n",
       "      <td>2.0</td>\n",
       "    </tr>\n",
       "    <tr>\n",
       "      <th>2</th>\n",
       "      <td>Charlie</td>\n",
       "      <td>88</td>\n",
       "      <td>3.5</td>\n",
       "    </tr>\n",
       "    <tr>\n",
       "      <th>5</th>\n",
       "      <td>Frank</td>\n",
       "      <td>88</td>\n",
       "      <td>3.5</td>\n",
       "    </tr>\n",
       "    <tr>\n",
       "      <th>1</th>\n",
       "      <td>Bob</td>\n",
       "      <td>92</td>\n",
       "      <td>5.5</td>\n",
       "    </tr>\n",
       "    <tr>\n",
       "      <th>3</th>\n",
       "      <td>David</td>\n",
       "      <td>92</td>\n",
       "      <td>5.5</td>\n",
       "    </tr>\n",
       "  </tbody>\n",
       "</table>\n",
       "</div>"
      ],
      "text/plain": [
       "      Name  Score  average_rank\n",
       "4      Eve     79           1.0\n",
       "0    Alice     85           2.0\n",
       "2  Charlie     88           3.5\n",
       "5    Frank     88           3.5\n",
       "1      Bob     92           5.5\n",
       "3    David     92           5.5"
      ]
     },
     "execution_count": 33,
     "metadata": {},
     "output_type": "execute_result"
    }
   ],
   "source": [
    "df['average_rank']=df['Score'].rank(method='average')\n",
    "df"
   ]
  },
  {
   "cell_type": "code",
   "execution_count": 34,
   "id": "b25fce48",
   "metadata": {},
   "outputs": [
    {
     "data": {
      "text/html": [
       "<div>\n",
       "<style scoped>\n",
       "    .dataframe tbody tr th:only-of-type {\n",
       "        vertical-align: middle;\n",
       "    }\n",
       "\n",
       "    .dataframe tbody tr th {\n",
       "        vertical-align: top;\n",
       "    }\n",
       "\n",
       "    .dataframe thead th {\n",
       "        text-align: right;\n",
       "    }\n",
       "</style>\n",
       "<table border=\"1\" class=\"dataframe\">\n",
       "  <thead>\n",
       "    <tr style=\"text-align: right;\">\n",
       "      <th></th>\n",
       "      <th>Name</th>\n",
       "      <th>Score</th>\n",
       "      <th>average_rank</th>\n",
       "      <th>min_rank</th>\n",
       "    </tr>\n",
       "  </thead>\n",
       "  <tbody>\n",
       "    <tr>\n",
       "      <th>4</th>\n",
       "      <td>Eve</td>\n",
       "      <td>79</td>\n",
       "      <td>1.0</td>\n",
       "      <td>1.0</td>\n",
       "    </tr>\n",
       "    <tr>\n",
       "      <th>0</th>\n",
       "      <td>Alice</td>\n",
       "      <td>85</td>\n",
       "      <td>2.0</td>\n",
       "      <td>2.0</td>\n",
       "    </tr>\n",
       "    <tr>\n",
       "      <th>2</th>\n",
       "      <td>Charlie</td>\n",
       "      <td>88</td>\n",
       "      <td>3.5</td>\n",
       "      <td>3.0</td>\n",
       "    </tr>\n",
       "    <tr>\n",
       "      <th>5</th>\n",
       "      <td>Frank</td>\n",
       "      <td>88</td>\n",
       "      <td>3.5</td>\n",
       "      <td>3.0</td>\n",
       "    </tr>\n",
       "    <tr>\n",
       "      <th>1</th>\n",
       "      <td>Bob</td>\n",
       "      <td>92</td>\n",
       "      <td>5.5</td>\n",
       "      <td>5.0</td>\n",
       "    </tr>\n",
       "    <tr>\n",
       "      <th>3</th>\n",
       "      <td>David</td>\n",
       "      <td>92</td>\n",
       "      <td>5.5</td>\n",
       "      <td>5.0</td>\n",
       "    </tr>\n",
       "  </tbody>\n",
       "</table>\n",
       "</div>"
      ],
      "text/plain": [
       "      Name  Score  average_rank  min_rank\n",
       "4      Eve     79           1.0       1.0\n",
       "0    Alice     85           2.0       2.0\n",
       "2  Charlie     88           3.5       3.0\n",
       "5    Frank     88           3.5       3.0\n",
       "1      Bob     92           5.5       5.0\n",
       "3    David     92           5.5       5.0"
      ]
     },
     "execution_count": 34,
     "metadata": {},
     "output_type": "execute_result"
    }
   ],
   "source": [
    "df['min_rank']=df['Score'].rank(method='min')\n",
    "df"
   ]
  },
  {
   "cell_type": "code",
   "execution_count": 35,
   "id": "cfdc2e87",
   "metadata": {},
   "outputs": [
    {
     "data": {
      "text/html": [
       "<div>\n",
       "<style scoped>\n",
       "    .dataframe tbody tr th:only-of-type {\n",
       "        vertical-align: middle;\n",
       "    }\n",
       "\n",
       "    .dataframe tbody tr th {\n",
       "        vertical-align: top;\n",
       "    }\n",
       "\n",
       "    .dataframe thead th {\n",
       "        text-align: right;\n",
       "    }\n",
       "</style>\n",
       "<table border=\"1\" class=\"dataframe\">\n",
       "  <thead>\n",
       "    <tr style=\"text-align: right;\">\n",
       "      <th></th>\n",
       "      <th>Name</th>\n",
       "      <th>Score</th>\n",
       "      <th>average_rank</th>\n",
       "      <th>min_rank</th>\n",
       "      <th>max_rank</th>\n",
       "    </tr>\n",
       "  </thead>\n",
       "  <tbody>\n",
       "    <tr>\n",
       "      <th>4</th>\n",
       "      <td>Eve</td>\n",
       "      <td>79</td>\n",
       "      <td>1.0</td>\n",
       "      <td>1.0</td>\n",
       "      <td>1.0</td>\n",
       "    </tr>\n",
       "    <tr>\n",
       "      <th>0</th>\n",
       "      <td>Alice</td>\n",
       "      <td>85</td>\n",
       "      <td>2.0</td>\n",
       "      <td>2.0</td>\n",
       "      <td>2.0</td>\n",
       "    </tr>\n",
       "    <tr>\n",
       "      <th>2</th>\n",
       "      <td>Charlie</td>\n",
       "      <td>88</td>\n",
       "      <td>3.5</td>\n",
       "      <td>3.0</td>\n",
       "      <td>4.0</td>\n",
       "    </tr>\n",
       "    <tr>\n",
       "      <th>5</th>\n",
       "      <td>Frank</td>\n",
       "      <td>88</td>\n",
       "      <td>3.5</td>\n",
       "      <td>3.0</td>\n",
       "      <td>4.0</td>\n",
       "    </tr>\n",
       "    <tr>\n",
       "      <th>1</th>\n",
       "      <td>Bob</td>\n",
       "      <td>92</td>\n",
       "      <td>5.5</td>\n",
       "      <td>5.0</td>\n",
       "      <td>6.0</td>\n",
       "    </tr>\n",
       "    <tr>\n",
       "      <th>3</th>\n",
       "      <td>David</td>\n",
       "      <td>92</td>\n",
       "      <td>5.5</td>\n",
       "      <td>5.0</td>\n",
       "      <td>6.0</td>\n",
       "    </tr>\n",
       "  </tbody>\n",
       "</table>\n",
       "</div>"
      ],
      "text/plain": [
       "      Name  Score  average_rank  min_rank  max_rank\n",
       "4      Eve     79           1.0       1.0       1.0\n",
       "0    Alice     85           2.0       2.0       2.0\n",
       "2  Charlie     88           3.5       3.0       4.0\n",
       "5    Frank     88           3.5       3.0       4.0\n",
       "1      Bob     92           5.5       5.0       6.0\n",
       "3    David     92           5.5       5.0       6.0"
      ]
     },
     "execution_count": 35,
     "metadata": {},
     "output_type": "execute_result"
    }
   ],
   "source": [
    "df['max_rank']=df['Score'].rank(method='max')\n",
    "df"
   ]
  },
  {
   "cell_type": "code",
   "execution_count": 36,
   "id": "c7ba8aab",
   "metadata": {},
   "outputs": [
    {
     "data": {
      "text/html": [
       "<div>\n",
       "<style scoped>\n",
       "    .dataframe tbody tr th:only-of-type {\n",
       "        vertical-align: middle;\n",
       "    }\n",
       "\n",
       "    .dataframe tbody tr th {\n",
       "        vertical-align: top;\n",
       "    }\n",
       "\n",
       "    .dataframe thead th {\n",
       "        text-align: right;\n",
       "    }\n",
       "</style>\n",
       "<table border=\"1\" class=\"dataframe\">\n",
       "  <thead>\n",
       "    <tr style=\"text-align: right;\">\n",
       "      <th></th>\n",
       "      <th>Name</th>\n",
       "      <th>Score</th>\n",
       "      <th>average_rank</th>\n",
       "      <th>min_rank</th>\n",
       "      <th>max_rank</th>\n",
       "      <th>first_rank</th>\n",
       "    </tr>\n",
       "  </thead>\n",
       "  <tbody>\n",
       "    <tr>\n",
       "      <th>4</th>\n",
       "      <td>Eve</td>\n",
       "      <td>79</td>\n",
       "      <td>1.0</td>\n",
       "      <td>1.0</td>\n",
       "      <td>1.0</td>\n",
       "      <td>1.0</td>\n",
       "    </tr>\n",
       "    <tr>\n",
       "      <th>0</th>\n",
       "      <td>Alice</td>\n",
       "      <td>85</td>\n",
       "      <td>2.0</td>\n",
       "      <td>2.0</td>\n",
       "      <td>2.0</td>\n",
       "      <td>2.0</td>\n",
       "    </tr>\n",
       "    <tr>\n",
       "      <th>2</th>\n",
       "      <td>Charlie</td>\n",
       "      <td>88</td>\n",
       "      <td>3.5</td>\n",
       "      <td>3.0</td>\n",
       "      <td>4.0</td>\n",
       "      <td>3.0</td>\n",
       "    </tr>\n",
       "    <tr>\n",
       "      <th>5</th>\n",
       "      <td>Frank</td>\n",
       "      <td>88</td>\n",
       "      <td>3.5</td>\n",
       "      <td>3.0</td>\n",
       "      <td>4.0</td>\n",
       "      <td>4.0</td>\n",
       "    </tr>\n",
       "    <tr>\n",
       "      <th>1</th>\n",
       "      <td>Bob</td>\n",
       "      <td>92</td>\n",
       "      <td>5.5</td>\n",
       "      <td>5.0</td>\n",
       "      <td>6.0</td>\n",
       "      <td>5.0</td>\n",
       "    </tr>\n",
       "    <tr>\n",
       "      <th>3</th>\n",
       "      <td>David</td>\n",
       "      <td>92</td>\n",
       "      <td>5.5</td>\n",
       "      <td>5.0</td>\n",
       "      <td>6.0</td>\n",
       "      <td>6.0</td>\n",
       "    </tr>\n",
       "  </tbody>\n",
       "</table>\n",
       "</div>"
      ],
      "text/plain": [
       "      Name  Score  average_rank  min_rank  max_rank  first_rank\n",
       "4      Eve     79           1.0       1.0       1.0         1.0\n",
       "0    Alice     85           2.0       2.0       2.0         2.0\n",
       "2  Charlie     88           3.5       3.0       4.0         3.0\n",
       "5    Frank     88           3.5       3.0       4.0         4.0\n",
       "1      Bob     92           5.5       5.0       6.0         5.0\n",
       "3    David     92           5.5       5.0       6.0         6.0"
      ]
     },
     "execution_count": 36,
     "metadata": {},
     "output_type": "execute_result"
    }
   ],
   "source": [
    "df['first_rank']=df['Score'].rank(method='first')\n",
    "df"
   ]
  },
  {
   "cell_type": "code",
   "execution_count": 37,
   "id": "5196412e",
   "metadata": {},
   "outputs": [
    {
     "data": {
      "text/html": [
       "<div>\n",
       "<style scoped>\n",
       "    .dataframe tbody tr th:only-of-type {\n",
       "        vertical-align: middle;\n",
       "    }\n",
       "\n",
       "    .dataframe tbody tr th {\n",
       "        vertical-align: top;\n",
       "    }\n",
       "\n",
       "    .dataframe thead th {\n",
       "        text-align: right;\n",
       "    }\n",
       "</style>\n",
       "<table border=\"1\" class=\"dataframe\">\n",
       "  <thead>\n",
       "    <tr style=\"text-align: right;\">\n",
       "      <th></th>\n",
       "      <th>Name</th>\n",
       "      <th>Score</th>\n",
       "      <th>average_rank</th>\n",
       "      <th>min_rank</th>\n",
       "      <th>max_rank</th>\n",
       "      <th>first_rank</th>\n",
       "      <th>dense_rank</th>\n",
       "    </tr>\n",
       "  </thead>\n",
       "  <tbody>\n",
       "    <tr>\n",
       "      <th>4</th>\n",
       "      <td>Eve</td>\n",
       "      <td>79</td>\n",
       "      <td>1.0</td>\n",
       "      <td>1.0</td>\n",
       "      <td>1.0</td>\n",
       "      <td>1.0</td>\n",
       "      <td>1.0</td>\n",
       "    </tr>\n",
       "    <tr>\n",
       "      <th>0</th>\n",
       "      <td>Alice</td>\n",
       "      <td>85</td>\n",
       "      <td>2.0</td>\n",
       "      <td>2.0</td>\n",
       "      <td>2.0</td>\n",
       "      <td>2.0</td>\n",
       "      <td>2.0</td>\n",
       "    </tr>\n",
       "    <tr>\n",
       "      <th>2</th>\n",
       "      <td>Charlie</td>\n",
       "      <td>88</td>\n",
       "      <td>3.5</td>\n",
       "      <td>3.0</td>\n",
       "      <td>4.0</td>\n",
       "      <td>3.0</td>\n",
       "      <td>3.0</td>\n",
       "    </tr>\n",
       "    <tr>\n",
       "      <th>5</th>\n",
       "      <td>Frank</td>\n",
       "      <td>88</td>\n",
       "      <td>3.5</td>\n",
       "      <td>3.0</td>\n",
       "      <td>4.0</td>\n",
       "      <td>4.0</td>\n",
       "      <td>3.0</td>\n",
       "    </tr>\n",
       "    <tr>\n",
       "      <th>1</th>\n",
       "      <td>Bob</td>\n",
       "      <td>92</td>\n",
       "      <td>5.5</td>\n",
       "      <td>5.0</td>\n",
       "      <td>6.0</td>\n",
       "      <td>5.0</td>\n",
       "      <td>4.0</td>\n",
       "    </tr>\n",
       "    <tr>\n",
       "      <th>3</th>\n",
       "      <td>David</td>\n",
       "      <td>92</td>\n",
       "      <td>5.5</td>\n",
       "      <td>5.0</td>\n",
       "      <td>6.0</td>\n",
       "      <td>6.0</td>\n",
       "      <td>4.0</td>\n",
       "    </tr>\n",
       "  </tbody>\n",
       "</table>\n",
       "</div>"
      ],
      "text/plain": [
       "      Name  Score  average_rank  min_rank  max_rank  first_rank  dense_rank\n",
       "4      Eve     79           1.0       1.0       1.0         1.0         1.0\n",
       "0    Alice     85           2.0       2.0       2.0         2.0         2.0\n",
       "2  Charlie     88           3.5       3.0       4.0         3.0         3.0\n",
       "5    Frank     88           3.5       3.0       4.0         4.0         3.0\n",
       "1      Bob     92           5.5       5.0       6.0         5.0         4.0\n",
       "3    David     92           5.5       5.0       6.0         6.0         4.0"
      ]
     },
     "execution_count": 37,
     "metadata": {},
     "output_type": "execute_result"
    }
   ],
   "source": [
    "df['dense_rank']=df['Score'].rank(method='dense')\n",
    "df"
   ]
  },
  {
   "cell_type": "code",
   "execution_count": 39,
   "id": "907b7dc5",
   "metadata": {},
   "outputs": [
    {
     "data": {
      "text/html": [
       "<div>\n",
       "<style scoped>\n",
       "    .dataframe tbody tr th:only-of-type {\n",
       "        vertical-align: middle;\n",
       "    }\n",
       "\n",
       "    .dataframe tbody tr th {\n",
       "        vertical-align: top;\n",
       "    }\n",
       "\n",
       "    .dataframe thead th {\n",
       "        text-align: right;\n",
       "    }\n",
       "</style>\n",
       "<table border=\"1\" class=\"dataframe\">\n",
       "  <thead>\n",
       "    <tr style=\"text-align: right;\">\n",
       "      <th></th>\n",
       "      <th>Name</th>\n",
       "      <th>Score</th>\n",
       "      <th>average_rank</th>\n",
       "      <th>min_rank</th>\n",
       "      <th>max_rank</th>\n",
       "      <th>first_rank</th>\n",
       "      <th>dense_rank</th>\n",
       "    </tr>\n",
       "  </thead>\n",
       "  <tbody>\n",
       "    <tr>\n",
       "      <th>4</th>\n",
       "      <td>Eve</td>\n",
       "      <td>79</td>\n",
       "      <td>1.0</td>\n",
       "      <td>1.0</td>\n",
       "      <td>1.0</td>\n",
       "      <td>1.0</td>\n",
       "      <td>1.0</td>\n",
       "    </tr>\n",
       "    <tr>\n",
       "      <th>0</th>\n",
       "      <td>Alice</td>\n",
       "      <td>85</td>\n",
       "      <td>2.0</td>\n",
       "      <td>2.0</td>\n",
       "      <td>2.0</td>\n",
       "      <td>2.0</td>\n",
       "      <td>2.0</td>\n",
       "    </tr>\n",
       "  </tbody>\n",
       "</table>\n",
       "</div>"
      ],
      "text/plain": [
       "    Name  Score  average_rank  min_rank  max_rank  first_rank  dense_rank\n",
       "4    Eve     79           1.0       1.0       1.0         1.0         1.0\n",
       "0  Alice     85           2.0       2.0       2.0         2.0         2.0"
      ]
     },
     "execution_count": 39,
     "metadata": {},
     "output_type": "execute_result"
    }
   ],
   "source": [
    "df.nsmallest(2,'Score')"
   ]
  },
  {
   "cell_type": "code",
   "execution_count": 41,
   "id": "d3327159",
   "metadata": {},
   "outputs": [
    {
     "data": {
      "text/html": [
       "<div>\n",
       "<style scoped>\n",
       "    .dataframe tbody tr th:only-of-type {\n",
       "        vertical-align: middle;\n",
       "    }\n",
       "\n",
       "    .dataframe tbody tr th {\n",
       "        vertical-align: top;\n",
       "    }\n",
       "\n",
       "    .dataframe thead th {\n",
       "        text-align: right;\n",
       "    }\n",
       "</style>\n",
       "<table border=\"1\" class=\"dataframe\">\n",
       "  <thead>\n",
       "    <tr style=\"text-align: right;\">\n",
       "      <th></th>\n",
       "      <th>Name</th>\n",
       "      <th>Score</th>\n",
       "      <th>average_rank</th>\n",
       "      <th>min_rank</th>\n",
       "      <th>max_rank</th>\n",
       "      <th>first_rank</th>\n",
       "      <th>dense_rank</th>\n",
       "    </tr>\n",
       "  </thead>\n",
       "  <tbody>\n",
       "    <tr>\n",
       "      <th>1</th>\n",
       "      <td>Bob</td>\n",
       "      <td>92</td>\n",
       "      <td>5.5</td>\n",
       "      <td>5.0</td>\n",
       "      <td>6.0</td>\n",
       "      <td>5.0</td>\n",
       "      <td>4.0</td>\n",
       "    </tr>\n",
       "    <tr>\n",
       "      <th>3</th>\n",
       "      <td>David</td>\n",
       "      <td>92</td>\n",
       "      <td>5.5</td>\n",
       "      <td>5.0</td>\n",
       "      <td>6.0</td>\n",
       "      <td>6.0</td>\n",
       "      <td>4.0</td>\n",
       "    </tr>\n",
       "  </tbody>\n",
       "</table>\n",
       "</div>"
      ],
      "text/plain": [
       "    Name  Score  average_rank  min_rank  max_rank  first_rank  dense_rank\n",
       "1    Bob     92           5.5       5.0       6.0         5.0         4.0\n",
       "3  David     92           5.5       5.0       6.0         6.0         4.0"
      ]
     },
     "execution_count": 41,
     "metadata": {},
     "output_type": "execute_result"
    }
   ],
   "source": [
    "df.nlargest(2,'Score')"
   ]
  },
  {
   "cell_type": "markdown",
   "id": "7fd7f3a8",
   "metadata": {},
   "source": [
    "<h3>Reshaping and Pivoting</h3>\n",
    "This section focuses on methods to recognize data in DataFrame,\n",
    "such as stacking, unstacking, melting, and creating pivot tables."
   ]
  },
  {
   "cell_type": "code",
   "execution_count": 73,
   "id": "54d70d5d",
   "metadata": {},
   "outputs": [
    {
     "name": "stdout",
     "output_type": "stream",
     "text": [
      "wide format:\n",
      "          Date  New York  Chicago\n",
      "0  2025-03-01        30       20\n",
      "1  2025-03-02        32       22\n",
      "\n",
      "long format:\n",
      "          Date      City  Temperature\n",
      "0  2025-03-01  New York           30\n",
      "1  2025-03-01   Chicago           20\n",
      "2  2025-03-02  New York           32\n",
      "3  2025-03-02   Chicago           22\n",
      "\n"
     ]
    }
   ],
   "source": [
    "#stack() converting wide data to long format\n",
    "#analyzing daily tempratures from multiple cities.\n",
    "#ex: Imagine you have daily temperature data from multiple cities in a wide format, but you need it in a long format for easier analysis.\n",
    "\n",
    "data={\n",
    "    'Date': ['2025-03-01', '2025-03-02'],\n",
    "    'New York': [30, 32],\n",
    "    'Chicago': [20, 22],\n",
    "}\n",
    "df=pd.DataFrame(data)\n",
    "print(\"wide format:\\n\",df)\n",
    "print()\n",
    "df.set_index('Date',inplace=True)\n",
    "long_format=df.stack().reset_index()\n",
    "long_format.columns = ['Date', 'City', 'Temperature']\n",
    "print(\"long format:\\n\",long_format)\n",
    "print()"
   ]
  },
  {
   "cell_type": "code",
   "execution_count": 76,
   "id": "d8ac0591",
   "metadata": {},
   "outputs": [
    {
     "data": {
      "text/html": [
       "<div>\n",
       "<style scoped>\n",
       "    .dataframe tbody tr th:only-of-type {\n",
       "        vertical-align: middle;\n",
       "    }\n",
       "\n",
       "    .dataframe tbody tr th {\n",
       "        vertical-align: top;\n",
       "    }\n",
       "\n",
       "    .dataframe thead tr th {\n",
       "        text-align: left;\n",
       "    }\n",
       "\n",
       "    .dataframe thead tr:last-of-type th {\n",
       "        text-align: right;\n",
       "    }\n",
       "</style>\n",
       "<table border=\"1\" class=\"dataframe\">\n",
       "  <thead>\n",
       "    <tr>\n",
       "      <th></th>\n",
       "      <th colspan=\"2\" halign=\"left\">Temperature</th>\n",
       "    </tr>\n",
       "    <tr>\n",
       "      <th>City</th>\n",
       "      <th>Chicago</th>\n",
       "      <th>New York</th>\n",
       "    </tr>\n",
       "    <tr>\n",
       "      <th>Date</th>\n",
       "      <th></th>\n",
       "      <th></th>\n",
       "    </tr>\n",
       "  </thead>\n",
       "  <tbody>\n",
       "    <tr>\n",
       "      <th>2025-03-01</th>\n",
       "      <td>20</td>\n",
       "      <td>30</td>\n",
       "    </tr>\n",
       "    <tr>\n",
       "      <th>2025-03-02</th>\n",
       "      <td>22</td>\n",
       "      <td>32</td>\n",
       "    </tr>\n",
       "  </tbody>\n",
       "</table>\n",
       "</div>"
      ],
      "text/plain": [
       "           Temperature         \n",
       "City           Chicago New York\n",
       "Date                           \n",
       "2025-03-01          20       30\n",
       "2025-03-02          22       32"
      ]
     },
     "execution_count": 76,
     "metadata": {},
     "output_type": "execute_result"
    }
   ],
   "source": [
    "#unstack()-converting long data to wide format\n",
    "#you have long-format data and need to summarize it by city.\n",
    "wide_format=long_format.set_index(['Date','City']).unstack()\n",
    "wide_format"
   ]
  },
  {
   "cell_type": "code",
   "execution_count": 77,
   "id": "07c0ec92",
   "metadata": {},
   "outputs": [
    {
     "name": "stdout",
     "output_type": "stream",
     "text": [
      "\n",
      "Melted DataFrame:\n",
      "       Name Question  Rating\n",
      "0    Alice       Q1       5\n",
      "1      Bob       Q1       3\n",
      "2  Charlie       Q1       4\n",
      "3    Alice       Q2       4\n",
      "4      Bob       Q2       5\n",
      "5  Charlie       Q2       2\n"
     ]
    }
   ],
   "source": [
    "#melt()-unpivoting data\n",
    "#suppose you have a survey dataset where each column represents a question and each row represents a respone. You want to analyze answers question-wise.\n",
    "survey = pd.DataFrame({\n",
    "    'Name': ['Alice', 'Bob', 'Charlie'],\n",
    "    'Q1': [5, 3, 4],\n",
    "    'Q2': [4, 5, 2]\n",
    "})\n",
    "\n",
    "# Unpivoting using melt()\n",
    "melted = pd.melt(survey, id_vars=['Name'], var_name='Question', value_name='Rating')\n",
    "print(\"\\nMelted DataFrame:\\n\", melted)\n"
   ]
  },
  {
   "cell_type": "code",
   "execution_count": 78,
   "id": "cd88d8ff",
   "metadata": {},
   "outputs": [
    {
     "name": "stdout",
     "output_type": "stream",
     "text": [
      "\n",
      "Pivoted Sales Data:\n",
      " Product         A      B\n",
      "Date                    \n",
      "2025-01-01  100.0  200.0\n",
      "2025-01-02  150.0    NaN\n"
     ]
    }
   ],
   "source": [
    "#pivot() - Creating a Pivoted Table\n",
    "#Imagine you have a sales dataset where each row is a transaction, and you want to summarize sales by date and product.\n",
    "sales = pd.DataFrame({\n",
    "    'Date': ['2025-01-01', '2025-01-01', '2025-01-02'],\n",
    "    'Product': ['A', 'B', 'A'],\n",
    "    'Revenue': [100, 200, 150]\n",
    "})\n",
    "\n",
    "# Pivoting data to see daily revenue per product\n",
    "pivoted = sales.pivot(index='Date', columns='Product', values='Revenue')\n",
    "print(\"\\nPivoted Sales Data:\\n\", pivoted)\n"
   ]
  },
  {
   "cell_type": "code",
   "execution_count": 85,
   "id": "ec27cad2",
   "metadata": {},
   "outputs": [
    {
     "name": "stdout",
     "output_type": "stream",
     "text": [
      "        Quantity     Revenue      \n",
      "Product        A   B       A     B\n",
      "Month                             \n",
      "Feb           55  58    1100  1400\n",
      "Jan           50  60    1000  1500\n"
     ]
    }
   ],
   "source": [
    "#pivote_table() - creating aggregated pivoted tables\n",
    "#you have montly sales data and want to summarize revenue and qunatity sold for each product\n",
    "data = {\n",
    "    'Month': ['Jan', 'Jan', 'Feb', 'Feb'],\n",
    "    'Product': ['A', 'B', 'A', 'B'],\n",
    "    'Revenue': [1000, 1500, 1100, 1400],\n",
    "    'Quantity': [50, 60, 55, 58]\n",
    "}\n",
    "\n",
    "df = pd.DataFrame(data)\n",
    "pivot_table=df.pivot_table(index='Month', columns='Product',values=['Revenue','Quantity'],aggfunc='sum')\n",
    "print(pivot_table)"
   ]
  },
  {
   "cell_type": "markdown",
   "id": "0067c1b3",
   "metadata": {},
   "source": [
    "<h3>Time Series Operations</h3>"
   ]
  },
  {
   "cell_type": "code",
   "execution_count": 89,
   "id": "b958220c",
   "metadata": {},
   "outputs": [
    {
     "name": "stdout",
     "output_type": "stream",
     "text": [
      "Converted Date Formats:\n",
      "                  dates formatted_dates\n",
      "0           2025/03/15        25-03-15\n",
      "1           15-03-2025             NaN\n",
      "2           03.15.2025             NaN\n",
      "3       March 15, 2025             NaN\n",
      "4  2025-03-15T14:30:00             NaN\n"
     ]
    }
   ],
   "source": [
    "import pandas as pd\n",
    "\n",
    "# Example data with mixed date formats\n",
    "data = {\n",
    "    'dates': ['2025/03/15', '15-03-2025', '03.15.2025', 'March 15, 2025', '2025-03-15T14:30:00']\n",
    "}\n",
    "\n",
    "df = pd.DataFrame(data)\n",
    "\n",
    "# Convert to a uniform date format (e.g., YYYY-MM-DD)\n",
    "df['formatted_dates'] = pd.to_datetime(df['dates'], errors='coerce').dt.strftime('%y-%m-%d')\n",
    "\n",
    "print(\"Converted Date Formats:\\n\", df)\n"
   ]
  },
  {
   "cell_type": "code",
   "execution_count": null,
   "id": "3b730a7c",
   "metadata": {
    "scrolled": true
   },
   "outputs": [],
   "source": []
  },
  {
   "cell_type": "code",
   "execution_count": 110,
   "id": "0666a4e6",
   "metadata": {},
   "outputs": [
    {
     "name": "stdout",
     "output_type": "stream",
     "text": [
      "0    2023\n",
      "1    2023\n",
      "2    2023\n",
      "3    2023\n",
      "Name: date, dtype: int32 0    1\n",
      "1    1\n",
      "2    1\n",
      "3    1\n",
      "Name: date, dtype: int32 0    1\n",
      "1    2\n",
      "2    3\n",
      "3    4\n",
      "Name: date, dtype: int32\n"
     ]
    }
   ],
   "source": [
    "df = pd.DataFrame({'date': pd.date_range('2023-01-01', periods=4, freq='D'), 'value': [1, 2, 3, 4]})\n",
    "print(df['date'].dt.year,\n",
    "df['date'].dt.month,\n",
    "df['date'].dt.day)"
   ]
  },
  {
   "cell_type": "code",
   "execution_count": 111,
   "id": "98f0d7e6",
   "metadata": {},
   "outputs": [
    {
     "name": "stdout",
     "output_type": "stream",
     "text": [
      "0       Sunday\n",
      "1       Monday\n",
      "2      Tuesday\n",
      "3    Wednesday\n",
      "Name: date, dtype: object\n"
     ]
    }
   ],
   "source": [
    "print(df['date'].dt.day_name())"
   ]
  },
  {
   "cell_type": "code",
   "execution_count": 113,
   "id": "0f1b0249",
   "metadata": {},
   "outputs": [
    {
     "name": "stdout",
     "output_type": "stream",
     "text": [
      "Original:\n",
      "             value\n",
      "date             \n",
      "2023-01-01      1\n",
      "2023-01-02      2\n",
      "2023-01-03      3\n",
      "2023-01-04      4\n",
      "2023-01-05      5\n",
      "\n",
      "Resample (2D sum):\n",
      "             value\n",
      "date             \n",
      "2023-01-01      3\n",
      "2023-01-03      7\n",
      "2023-01-05      5\n",
      "\n",
      "Shift (1 period):\n",
      "             value\n",
      "date             \n",
      "2023-01-01    NaN\n",
      "2023-01-02    1.0\n",
      "2023-01-03    2.0\n",
      "2023-01-04    3.0\n",
      "2023-01-05    4.0\n",
      "\n",
      "Rolling (3-day mean):\n",
      "             value\n",
      "date             \n",
      "2023-01-01    NaN\n",
      "2023-01-02    NaN\n",
      "2023-01-03    2.0\n",
      "2023-01-04    3.0\n",
      "2023-01-05    4.0\n",
      "\n",
      "Month:\n",
      " Index([1, 1, 1, 1, 1], dtype='int32', name='date')\n",
      "\n",
      "Date range:\n",
      " DatetimeIndex(['2023-01-01 00:00:00', '2023-01-01 01:00:00',\n",
      "               '2023-01-01 02:00:00'],\n",
      "              dtype='datetime64[ns]', freq='H')\n",
      "\n",
      "Asfreq (12H):\n",
      "                      value\n",
      "date                      \n",
      "2023-01-01 00:00:00      1\n",
      "2023-01-01 12:00:00      1\n",
      "2023-01-02 00:00:00      2\n",
      "2023-01-02 12:00:00      2\n",
      "2023-01-03 00:00:00      3\n",
      "2023-01-03 12:00:00      3\n",
      "2023-01-04 00:00:00      4\n",
      "2023-01-04 12:00:00      4\n",
      "2023-01-05 00:00:00      5\n",
      "\n",
      "TZ localize (UTC):\n",
      "                            value\n",
      "date                            \n",
      "2023-01-01 00:00:00+00:00      1\n",
      "2023-01-02 00:00:00+00:00      2\n",
      "2023-01-03 00:00:00+00:00      3\n",
      "2023-01-04 00:00:00+00:00      4\n",
      "2023-01-05 00:00:00+00:00      5\n",
      "\n",
      "TZ convert (US/Pacific):\n",
      "                            value\n",
      "date                            \n",
      "2022-12-31 16:00:00-08:00      1\n",
      "2023-01-01 16:00:00-08:00      2\n",
      "2023-01-02 16:00:00-08:00      3\n",
      "2023-01-03 16:00:00-08:00      4\n",
      "2023-01-04 16:00:00-08:00      5\n"
     ]
    }
   ],
   "source": [
    "import pandas as pd\n",
    "\n",
    "# Create a DataFrame\n",
    "df = pd.DataFrame({'date': pd.date_range('2023-01-01', periods=5, freq='D'), 'value': [1, 2, 3, 4, 5]})\n",
    "df['date'] = pd.to_datetime(df['date'])\n",
    "df.set_index('date', inplace=True)\n",
    "\n",
    "# Time Series Operations\n",
    "print(\"Original:\\n\", df)\n",
    "print(\"\\nResample (2D sum):\\n\", df.resample('2D').sum())\n",
    "print(\"\\nShift (1 period):\\n\", df.shift(1))\n",
    "print(\"\\nRolling (3-day mean):\\n\", df.rolling(window=3).mean())\n",
    "print(\"\\nMonth:\\n\", df.index.month)\n",
    "print(\"\\nDate range:\\n\", pd.date_range('2023-01-01', periods=3, freq='H'))\n",
    "print(\"\\nAsfreq (12H):\\n\", df.asfreq('12H', method='ffill'))\n",
    "df.index = df.index.tz_localize('UTC')\n",
    "print(\"\\nTZ localize (UTC):\\n\", df)\n",
    "df.index = df.index.tz_convert('US/Pacific')\n",
    "print(\"\\nTZ convert (US/Pacific):\\n\", df)"
   ]
  },
  {
   "cell_type": "markdown",
   "id": "e88123f7",
   "metadata": {},
   "source": [
    "<h3>String Operations</h3>"
   ]
  },
  {
   "cell_type": "code",
   "execution_count": 117,
   "id": "185d3da7",
   "metadata": {},
   "outputs": [
    {
     "name": "stdout",
     "output_type": "stream",
     "text": [
      "Cleaned Names:\n",
      " 0            Alice\n",
      "1        Bob Jones\n",
      "2    Charlie Brown\n",
      "Name: Name, dtype: object\n",
      "\n",
      "First Names:\n",
      " 0      Alice\n",
      "1        Bob\n",
      "2    Charlie\n",
      "Name: Name, dtype: object\n",
      "\n",
      "Uppercase IDs:\n",
      " 0    X-123\n",
      "1    Y-456\n",
      "2    Z-789\n",
      "Name: ID, dtype: object\n",
      "\n",
      "Lower caseL\n",
      " 0          alice  \n",
      "1        bob jones\n",
      "2    charlie brown\n",
      "Name: Name, dtype: object\n",
      "\n",
      "contains:e\n",
      " 0    True\n",
      "1    True\n",
      "2    True\n",
      "Name: Name, dtype: bool\n",
      "\n",
      "Extract Letters:\n",
      "    0\n",
      "0  X\n",
      "1  Y\n",
      "2  Z\n",
      "\n",
      "Replace Dash:\n",
      " 0    X_123\n",
      "1    Y_456\n",
      "2    Z_789\n",
      "Name: ID, dtype: object\n",
      "\n",
      "length:\n",
      " 0     9\n",
      "1     9\n",
      "2    13\n",
      "Name: Name, dtype: int64\n"
     ]
    }
   ],
   "source": [
    "import pandas as pd\n",
    "\n",
    "# Create a DataFrame\n",
    "df = pd.DataFrame({\n",
    "    'Name': ['  Alice  ', 'Bob Jones', 'Charlie Brown'],\n",
    "    'ID': ['X-123', 'Y-456', 'Z-789']\n",
    "})\n",
    "\n",
    "# String Operations\n",
    "print(\"Cleaned Names:\\n\", df['Name'].str.strip())\n",
    "print(\"\\nFirst Names:\\n\", df['Name'].str.split().str[0])\n",
    "print(\"\\nUppercase IDs:\\n\", df['ID'].str.upper())\n",
    "print(\"\\nLower caseL\\n\",df['Name'].str.lower())\n",
    "print(\"\\ncontains:e\\n\",df['Name'].str.contains('e'))\n",
    "print(\"\\nExtract Letters:\\n\", df['ID'].str.extract(r'([A-Z])'))\n",
    "print(\"\\nReplace Dash:\\n\", df['ID'].str.replace('-', '_'))\n",
    "print(\"\\nlength:\\n\",df['Name'].str.len())"
   ]
  },
  {
   "cell_type": "markdown",
   "id": "6b169bd6",
   "metadata": {},
   "source": [
    "<h3>Mathematical Operations:</h3>"
   ]
  },
  {
   "cell_type": "code",
   "execution_count": 118,
   "id": "4b899277",
   "metadata": {},
   "outputs": [
    {
     "name": "stdout",
     "output_type": "stream",
     "text": [
      "   A  B\n",
      "0  2  4\n",
      "1  3  5\n"
     ]
    }
   ],
   "source": [
    "import pandas as pd\n",
    "df = pd.DataFrame({'A': [1, 2], 'B': [3, 4]})\n",
    "print(df.add(1))"
   ]
  },
  {
   "cell_type": "code",
   "execution_count": 119,
   "id": "bb6988b0",
   "metadata": {},
   "outputs": [
    {
     "name": "stdout",
     "output_type": "stream",
     "text": [
      "    A   B\n",
      "0  11  33\n",
      "1  22  44\n"
     ]
    }
   ],
   "source": [
    "df2 = pd.DataFrame({'A': [10, 20], 'B': [30, 40]})\n",
    "print(df.add(df2))"
   ]
  },
  {
   "cell_type": "code",
   "execution_count": 120,
   "id": "ac8ac5f0",
   "metadata": {},
   "outputs": [
    {
     "name": "stdout",
     "output_type": "stream",
     "text": [
      "   A  B\n",
      "0  0  2\n",
      "1  1  3\n"
     ]
    }
   ],
   "source": [
    "print(df.sub(1))"
   ]
  },
  {
   "cell_type": "code",
   "execution_count": 121,
   "id": "f9b6a37f",
   "metadata": {},
   "outputs": [
    {
     "name": "stdout",
     "output_type": "stream",
     "text": [
      "   A  B\n",
      "0  2  6\n",
      "1  4  8\n"
     ]
    }
   ],
   "source": [
    "print(df.mul(2))"
   ]
  },
  {
   "cell_type": "code",
   "execution_count": 122,
   "id": "364b7c58",
   "metadata": {},
   "outputs": [
    {
     "name": "stdout",
     "output_type": "stream",
     "text": [
      "   A   B\n",
      "0  2   9\n",
      "1  4  12\n"
     ]
    }
   ],
   "source": [
    "s = pd.Series([2, 3], index=['A', 'B'])\n",
    "print(df.mul(s))"
   ]
  },
  {
   "cell_type": "code",
   "execution_count": 123,
   "id": "040d8016",
   "metadata": {},
   "outputs": [
    {
     "name": "stdout",
     "output_type": "stream",
     "text": [
      "   A   B\n",
      "0  1   9\n",
      "1  4  16\n"
     ]
    }
   ],
   "source": [
    "print(df.pow(2))"
   ]
  },
  {
   "cell_type": "code",
   "execution_count": 128,
   "id": "3d4fc34a",
   "metadata": {},
   "outputs": [
    {
     "name": "stdout",
     "output_type": "stream",
     "text": [
      "   A  B\n",
      "0  1  3\n",
      "1  2  4 \n",
      "\n",
      "A    3\n",
      "B    7\n",
      "dtype: int64\n",
      "0    4\n",
      "1    6\n",
      "dtype: int64\n"
     ]
    }
   ],
   "source": [
    "print(df,\"\\n\")\n",
    "print(df.sum(axis=0))\n",
    "print(df.sum(axis=1))"
   ]
  },
  {
   "cell_type": "code",
   "execution_count": 135,
   "id": "ed4aae93",
   "metadata": {},
   "outputs": [
    {
     "name": "stdout",
     "output_type": "stream",
     "text": [
      "0    2.0\n",
      "1    3.0\n",
      "dtype: float64 \n",
      " A    1.5\n",
      "B    3.5\n",
      "dtype: float64\n"
     ]
    }
   ],
   "source": [
    "print(df.mean(axis=1),\"\\n\",df.mean(axis=0))"
   ]
  },
  {
   "cell_type": "code",
   "execution_count": 136,
   "id": "61dade77",
   "metadata": {},
   "outputs": [
    {
     "name": "stdout",
     "output_type": "stream",
     "text": [
      "A    1.5\n",
      "B    3.5\n",
      "dtype: float64\n"
     ]
    }
   ],
   "source": [
    "print(df.median())"
   ]
  },
  {
   "cell_type": "code",
   "execution_count": 137,
   "id": "84945b8d",
   "metadata": {},
   "outputs": [
    {
     "name": "stdout",
     "output_type": "stream",
     "text": [
      "A    0.707107\n",
      "B    0.707107\n",
      "dtype: float64\n"
     ]
    }
   ],
   "source": [
    "print(df.std())"
   ]
  },
  {
   "cell_type": "code",
   "execution_count": 138,
   "id": "90ecd6ba",
   "metadata": {},
   "outputs": [
    {
     "name": "stdout",
     "output_type": "stream",
     "text": [
      "A    0.5\n",
      "B    0.5\n",
      "dtype: float64\n"
     ]
    }
   ],
   "source": [
    "print(df.var())"
   ]
  },
  {
   "cell_type": "code",
   "execution_count": 139,
   "id": "72bd5960",
   "metadata": {},
   "outputs": [
    {
     "name": "stdout",
     "output_type": "stream",
     "text": [
      "Add 10:\n",
      "     A   B\n",
      "0  11  14\n",
      "1  12  15\n",
      "2  13  16\n",
      "\n",
      "Subtract 1:\n",
      "    A  B\n",
      "0  0  3\n",
      "1  1  4\n",
      "2  2  5\n",
      "\n",
      "Multiply by 2:\n",
      "    A   B\n",
      "0  2   8\n",
      "1  4  10\n",
      "2  6  12\n",
      "\n",
      "Divide by 2:\n",
      "      A    B\n",
      "0  0.5  2.0\n",
      "1  1.0  2.5\n",
      "2  1.5  3.0\n",
      "\n",
      "Power of 3:\n",
      "     A    B\n",
      "0   1   64\n",
      "1   8  125\n",
      "2  27  216\n",
      "\n",
      "Sum:\n",
      " A     6\n",
      "B    15\n",
      "dtype: int64\n",
      "\n",
      "Mean:\n",
      " A    2.0\n",
      "B    5.0\n",
      "dtype: float64\n",
      "\n",
      "Median:\n",
      " A    2.0\n",
      "B    5.0\n",
      "dtype: float64\n",
      "\n",
      "Std Dev:\n",
      " A    1.0\n",
      "B    1.0\n",
      "dtype: float64\n",
      "\n",
      "Variance:\n",
      " A    1.0\n",
      "B    1.0\n",
      "dtype: float64\n"
     ]
    }
   ],
   "source": [
    "import pandas as pd\n",
    "\n",
    "# Create a DataFrame\n",
    "df = pd.DataFrame({'A': [1, 2, 3], 'B': [4, 5, 6]})\n",
    "\n",
    "# Mathematical Operations\n",
    "print(\"Add 10:\\n\", df.add(10))\n",
    "print(\"\\nSubtract 1:\\n\", df.sub(1))\n",
    "print(\"\\nMultiply by 2:\\n\", df.mul(2))\n",
    "print(\"\\nDivide by 2:\\n\", df.div(2))\n",
    "print(\"\\nPower of 3:\\n\", df.pow(3))\n",
    "print(\"\\nSum:\\n\", df.sum())\n",
    "print(\"\\nMean:\\n\", df.mean())\n",
    "print(\"\\nMedian:\\n\", df.median())\n",
    "print(\"\\nStd Dev:\\n\", df.std())\n",
    "print(\"\\nVariance:\\n\", df.var())"
   ]
  },
  {
   "cell_type": "markdown",
   "id": "33882483",
   "metadata": {},
   "source": [
    "<h3>Statistical Operations</h3>"
   ]
  },
  {
   "cell_type": "code",
   "execution_count": 141,
   "id": "64d36c6a",
   "metadata": {},
   "outputs": [
    {
     "name": "stdout",
     "output_type": "stream",
     "text": [
      "Correlation:\n",
      "      A    B\n",
      "A  1.0  0.6\n",
      "B  0.6  1.0\n",
      "\n",
      "Covariance:\n",
      "           A         B\n",
      "A  1.666667  1.000000\n",
      "B  1.000000  1.666667\n",
      "\n",
      "Skewness:\n",
      " A    0.0\n",
      "B    0.0\n",
      "dtype: float64\n",
      "\n",
      "Kurtosis:\n",
      " A   -1.2\n",
      "B   -1.2\n",
      "dtype: float64\n",
      "\n",
      "Mean, Median, Mode of A:\n",
      " 2.5 2.5 0    1\n",
      "1    2\n",
      "2    3\n",
      "3    4\n",
      "Name: A, dtype: int64\n",
      "\n",
      "Min, Max, Std, Var of B:\n",
      " 3 6 1.2909944487358056 1.6666666666666667\n",
      "\n",
      "Cumulative Sum and Product:\n",
      "    A  B  A_cumsum  B_cumprod\n",
      "0  1  4         1          4\n",
      "1  2  3         3         12\n",
      "2  3  6         6         72\n",
      "3  4  5        10        360\n"
     ]
    }
   ],
   "source": [
    "import pandas as pd\n",
    "\n",
    "# Create a DataFrame\n",
    "df = pd.DataFrame({'A': [1, 2, 3, 4], 'B': [4, 3, 6, 5]})\n",
    "\n",
    "# Statistical Methods\n",
    "print(\"Correlation:\\n\", df.corr())\n",
    "print(\"\\nCovariance:\\n\", df.cov())\n",
    "print(\"\\nSkewness:\\n\", df.skew())\n",
    "print(\"\\nKurtosis:\\n\", df.kurt())\n",
    "print(\"\\nMean, Median, Mode of A:\\n\", df['A'].mean(), df['A'].median(), df['A'].mode())\n",
    "print(\"\\nMin, Max, Std, Var of B:\\n\", df['B'].min(), df['B'].max(), df['B'].std(), df['B'].var())\n",
    "df['A_cumsum'] = df['A'].cumsum()\n",
    "df['B_cumprod'] = df['B'].cumprod()\n",
    "print(\"\\nCumulative Sum and Product:\\n\", df)"
   ]
  },
  {
   "cell_type": "markdown",
   "id": "efd9b377",
   "metadata": {},
   "source": [
    "<h3>Categorical Data</h3>"
   ]
  },
  {
   "cell_type": "code",
   "execution_count": 143,
   "id": "9c9d7935",
   "metadata": {},
   "outputs": [
    {
     "name": "stdout",
     "output_type": "stream",
     "text": [
      "0    a\n",
      "1    b\n",
      "2    a\n",
      "Name: A, dtype: category\n",
      "Categories (2, object): ['a', 'b']\n"
     ]
    }
   ],
   "source": [
    "import pandas as pd\n",
    "df = pd.DataFrame({'A': ['a', 'b', 'a']})\n",
    "df['A'] = df['A'].astype('category')\n",
    "print(df['A'])"
   ]
  },
  {
   "cell_type": "code",
   "execution_count": 145,
   "id": "e6cd7540",
   "metadata": {},
   "outputs": [
    {
     "data": {
      "text/plain": [
       "0    0\n",
       "1    1\n",
       "2    0\n",
       "dtype: int8"
      ]
     },
     "execution_count": 145,
     "metadata": {},
     "output_type": "execute_result"
    }
   ],
   "source": [
    "#df.cat.codes --> Returns the integer codes representing each category in a categorical column(0-based indexing)\n",
    "df['A'].cat.codes"
   ]
  },
  {
   "cell_type": "code",
   "execution_count": 146,
   "id": "19a1ba0e",
   "metadata": {},
   "outputs": [
    {
     "data": {
      "text/plain": [
       "Index(['a', 'b'], dtype='object')"
      ]
     },
     "execution_count": 146,
     "metadata": {},
     "output_type": "execute_result"
    }
   ],
   "source": [
    "df['A'].cat.categories #Returns the list of categories defined for a categorical column."
   ]
  },
  {
   "cell_type": "code",
   "execution_count": 147,
   "id": "ae2ed986",
   "metadata": {},
   "outputs": [
    {
     "name": "stdout",
     "output_type": "stream",
     "text": [
      "      A\n",
      "0  cat1\n",
      "1  cat2\n",
      "2  cat1\n"
     ]
    }
   ],
   "source": [
    "df = pd.DataFrame({'A': ['x', 'y', 'x']})\n",
    "df['A'] = df['A'].astype('category')\n",
    "df['A'] = df['A'].cat.rename_categories(['cat1', 'cat2'])\n",
    "print(df)"
   ]
  },
  {
   "cell_type": "code",
   "execution_count": 148,
   "id": "50891103",
   "metadata": {},
   "outputs": [
    {
     "name": "stdout",
     "output_type": "stream",
     "text": [
      "As Categorical:\n",
      "         A  B\n",
      "0     low  1\n",
      "1  medium  2\n",
      "2    high  3\n",
      "3     low  4\n",
      "\n",
      "Category Codes:\n",
      " 0    1\n",
      "1    2\n",
      "2    0\n",
      "3    1\n",
      "dtype: int8\n",
      "\n",
      "Categories:\n",
      " Index(['high', 'low', 'medium'], dtype='object')\n",
      "\n",
      "Renamed Categories:\n",
      "    A  B\n",
      "0  M  1\n",
      "1  H  2\n",
      "2  L  3\n",
      "3  M  4\n"
     ]
    }
   ],
   "source": [
    "import pandas as pd\n",
    "\n",
    "# Create a DataFrame\n",
    "df = pd.DataFrame({'A': ['low', 'medium', 'high', 'low'], 'B': [1, 2, 3, 4]})\n",
    "\n",
    "# Categorical Data Operations\n",
    "df['A'] = df['A'].astype('category')\n",
    "print(\"As Categorical:\\n\", df)\n",
    "print(\"\\nCategory Codes:\\n\", df['A'].cat.codes)\n",
    "print(\"\\nCategories:\\n\", df['A'].cat.categories)\n",
    "df['A'] = df['A'].cat.rename_categories(['L', 'M', 'H'])\n",
    "print(\"\\nRenamed Categories:\\n\", df)"
   ]
  },
  {
   "cell_type": "markdown",
   "id": "7394a6a6",
   "metadata": {},
   "source": [
    "<h3>Set Operations</h3>"
   ]
  },
  {
   "cell_type": "code",
   "execution_count": 153,
   "id": "cca0ab74",
   "metadata": {},
   "outputs": [
    {
     "name": "stdout",
     "output_type": "stream",
     "text": [
      "   A  B\n",
      "0  1  3\n",
      "1  2  4\n",
      "0  2  5\n",
      "1  3  6\n"
     ]
    }
   ],
   "source": [
    "df1 = pd.DataFrame({'A': [1, 2], 'B': [3, 4]})\n",
    "df2 = pd.DataFrame({'A': [2, 3], 'B': [5, 6]})\n",
    "print(pd.concat([df1,df2],axis=0))"
   ]
  },
  {
   "cell_type": "code",
   "execution_count": 156,
   "id": "85de94cd",
   "metadata": {},
   "outputs": [
    {
     "name": "stdout",
     "output_type": "stream",
     "text": [
      "   A  B\n",
      "0  2  5\n",
      "1  3  6\n"
     ]
    }
   ],
   "source": [
    "df1 = pd.DataFrame({'A': [1, 2, 3], 'B': [4, 5, 6]}, index=['x', 'y', 'z'])\n",
    "df2 = pd.DataFrame({'A': [2, 3, 4], 'B': [5, 6, 7]}, index=['y', 'z', 'w'])\n",
    "df_intersection = df1.merge(df2, on=['A', 'B'], how='inner')\n",
    "print(df_intersection)"
   ]
  },
  {
   "cell_type": "code",
   "execution_count": 157,
   "id": "93d01268",
   "metadata": {},
   "outputs": [
    {
     "name": "stdout",
     "output_type": "stream",
     "text": [
      "   A  B\n",
      "x  1  4\n"
     ]
    }
   ],
   "source": [
    "df_diff = df1.loc[df1.index.difference(df2.index)]  # Replacing df1.difference(df2)\n",
    "print(df_diff)"
   ]
  },
  {
   "cell_type": "code",
   "execution_count": 158,
   "id": "48bf82cb",
   "metadata": {},
   "outputs": [
    {
     "name": "stdout",
     "output_type": "stream",
     "text": [
      "0     True\n",
      "1     True\n",
      "2    False\n",
      "Name: A, dtype: bool\n"
     ]
    }
   ],
   "source": [
    "df = pd.DataFrame({'A': [1, 2, 3], 'B': [4, 5, 6]})\n",
    "print(df['A'].isin([1, 2]))"
   ]
  },
  {
   "cell_type": "code",
   "execution_count": 160,
   "id": "1bae7f5f",
   "metadata": {},
   "outputs": [
    {
     "name": "stdout",
     "output_type": "stream",
     "text": [
      "Union:\n",
      "    A  B\n",
      "x  1  4\n",
      "y  2  5\n",
      "z  3  6\n",
      "y  2  5\n",
      "z  3  6\n",
      "w  4  7\n",
      "\n",
      "Intersection:\n",
      "    A  B\n",
      "y  2  5\n",
      "z  3  6\n",
      "\n",
      "Difference:\n",
      "    A  B\n",
      "x  1  4\n",
      "\n",
      "Isin [2, 3] for A:\n",
      " x    False\n",
      "y     True\n",
      "z     True\n",
      "Name: A, dtype: bool\n"
     ]
    }
   ],
   "source": [
    "import pandas as pd\n",
    "\n",
    "# Create DataFrames\n",
    "df1 = pd.DataFrame({'A': [1, 2, 3], 'B': [4, 5, 6]}, index=['x', 'y', 'z'])\n",
    "df2 = pd.DataFrame({'A': [2, 3, 4], 'B': [5, 6, 7]}, index=['y', 'z', 'w'])\n",
    "\n",
    "# Set Operations\n",
    "df_union = pd.concat([df1, df2])\n",
    "print(\"Union:\\n\", df_union)\n",
    "df_intersection = df1.loc[df1.index.intersection(df2.index)]\n",
    "print(\"\\nIntersection:\\n\", df_intersection)\n",
    "df_diff = df1.loc[df1.index.difference(df2.index)]\n",
    "print(\"\\nDifference:\\n\", df_diff)\n",
    "print(\"\\nIsin [2, 3] for A:\\n\", df1['A'].isin([2, 3]))"
   ]
  },
  {
   "cell_type": "markdown",
   "id": "dc92241f",
   "metadata": {},
   "source": [
    "<h3>Data Exporting</h3>"
   ]
  },
  {
   "cell_type": "raw",
   "id": "e08d00c4",
   "metadata": {},
   "source": [
    "import pandas as pd\n",
    "\n",
    "# Create a DataFrame\n",
    "df = pd.DataFrame({'A': [1, 2, 3], 'B': [4, 5, 6]})\n",
    "\n",
    "# Data Export\n",
    "df.to_csv('output.csv', index=False)\n",
    "df.to_excel('output.xlsx', index=False)\n",
    "from sqlalchemy import create_engine\n",
    "engine = create_engine('sqlite:///example.db')\n",
    "df.to_sql('my_table', engine, if_exists='replace', index=False)\n",
    "df.to_json('output.json')\n",
    "df.to_parquet('output.parquet')\n",
    "df.to_pickle('output.pkl')\n",
    "df.to_html('output.html')\n",
    "df.to_clipboard()\n",
    "\n",
    "print(\"Files created: output.csv, output.xlsx, example.db, output.json, output.parquet, output.pkl, output.html\")\n",
    "print(\"Data copied to clipboard - paste somewhere to verify!\")"
   ]
  },
  {
   "cell_type": "markdown",
   "id": "9c92b6c4",
   "metadata": {},
   "source": [
    "<h3>Performance Optimization</h3>"
   ]
  },
  {
   "cell_type": "code",
   "execution_count": 163,
   "id": "88f886c8",
   "metadata": {},
   "outputs": [
    {
     "name": "stdout",
     "output_type": "stream",
     "text": [
      "   A  B\n",
      "2  3  3\n",
      "3  4  2\n"
     ]
    }
   ],
   "source": [
    "import pandas as pd\n",
    "df = pd.DataFrame({'A': [1, 2, 3, 4], 'B': [5, 4, 3, 2]})\n",
    "print(df.query('A > 2 and B < 5'))"
   ]
  },
  {
   "cell_type": "code",
   "execution_count": 165,
   "id": "0eca14b2",
   "metadata": {},
   "outputs": [
    {
     "name": "stdout",
     "output_type": "stream",
     "text": [
      "   A  B\n",
      "3  4  2\n",
      "   A  B\n",
      "1  2  4\n"
     ]
    }
   ],
   "source": [
    "threshold = 3\n",
    "print(df.query('A > @threshold'))\n",
    "print(df.query('A % 2 == 0 and B >= 4'))"
   ]
  },
  {
   "cell_type": "code",
   "execution_count": 166,
   "id": "b91277b7",
   "metadata": {},
   "outputs": [
    {
     "name": "stdout",
     "output_type": "stream",
     "text": [
      "   A  B  C\n",
      "0  1  4  5\n",
      "1  2  5  7\n",
      "2  3  6  9\n"
     ]
    }
   ],
   "source": [
    "df = pd.DataFrame({'A': [1, 2, 3], 'B': [4, 5, 6]})\n",
    "df.eval('C = A + B', inplace=True)\n",
    "print(df)"
   ]
  },
  {
   "cell_type": "code",
   "execution_count": 167,
   "id": "f94115f6",
   "metadata": {},
   "outputs": [
    {
     "name": "stdout",
     "output_type": "stream",
     "text": [
      "Index    132\n",
      "A         24\n",
      "B        174\n",
      "dtype: int64\n"
     ]
    }
   ],
   "source": [
    "df = pd.DataFrame({'A': [1, 2, 3], 'B': ['x', 'y', 'z']})\n",
    "print(df.memory_usage(deep=True))"
   ]
  },
  {
   "cell_type": "code",
   "execution_count": 168,
   "id": "711c3e86",
   "metadata": {},
   "outputs": [
    {
     "name": "stdout",
     "output_type": "stream",
     "text": [
      "Query A > 3 and B < 4:\n",
      "    A  B\n",
      "3  4  3\n",
      "4  5  2\n",
      "\n",
      "Eval C = A * B:\n",
      "    A  B   C\n",
      "0  1  6   6\n",
      "1  2  5  10\n",
      "2  3  4  12\n",
      "3  4  3  12\n",
      "4  5  2  10\n",
      "\n",
      "Memory Usage (deep=True):\n",
      " Index    132\n",
      "A         40\n",
      "B         40\n",
      "C         40\n",
      "dtype: int64\n"
     ]
    }
   ],
   "source": [
    "import pandas as pd\n",
    "\n",
    "# Create a DataFrame\n",
    "df = pd.DataFrame({'A': [1, 2, 3, 4, 5], 'B': [6, 5, 4, 3, 2]})\n",
    "\n",
    "# Performance Optimization\n",
    "print(\"Query A > 3 and B < 4:\\n\", df.query('A > 3 and B < 4'))\n",
    "df.eval('C = A * B', inplace=True)\n",
    "print(\"\\nEval C = A * B:\\n\", df)\n",
    "print(\"\\nMemory Usage (deep=True):\\n\", df.memory_usage(deep=True))"
   ]
  },
  {
   "cell_type": "markdown",
   "id": "ce0b9741",
   "metadata": {},
   "source": [
    "<h3>Window Functions</h3>\n",
    "used to prefom calculations on a set of data points (referred to as a 'window') defined by the user. these functions help in analyzind data over a specific range of rows or groups without affecting the overall dataset."
   ]
  },
  {
   "cell_type": "code",
   "execution_count": 6,
   "id": "ed2ead7f",
   "metadata": {},
   "outputs": [
    {
     "data": {
      "text/html": [
       "<div>\n",
       "<style scoped>\n",
       "    .dataframe tbody tr th:only-of-type {\n",
       "        vertical-align: middle;\n",
       "    }\n",
       "\n",
       "    .dataframe tbody tr th {\n",
       "        vertical-align: top;\n",
       "    }\n",
       "\n",
       "    .dataframe thead th {\n",
       "        text-align: right;\n",
       "    }\n",
       "</style>\n",
       "<table border=\"1\" class=\"dataframe\">\n",
       "  <thead>\n",
       "    <tr style=\"text-align: right;\">\n",
       "      <th></th>\n",
       "      <th>A</th>\n",
       "    </tr>\n",
       "  </thead>\n",
       "  <tbody>\n",
       "    <tr>\n",
       "      <th>0</th>\n",
       "      <td>NaN</td>\n",
       "    </tr>\n",
       "    <tr>\n",
       "      <th>1</th>\n",
       "      <td>1.5</td>\n",
       "    </tr>\n",
       "    <tr>\n",
       "      <th>2</th>\n",
       "      <td>2.5</td>\n",
       "    </tr>\n",
       "    <tr>\n",
       "      <th>3</th>\n",
       "      <td>3.5</td>\n",
       "    </tr>\n",
       "    <tr>\n",
       "      <th>4</th>\n",
       "      <td>4.5</td>\n",
       "    </tr>\n",
       "    <tr>\n",
       "      <th>5</th>\n",
       "      <td>5.5</td>\n",
       "    </tr>\n",
       "  </tbody>\n",
       "</table>\n",
       "</div>"
      ],
      "text/plain": [
       "     A\n",
       "0  NaN\n",
       "1  1.5\n",
       "2  2.5\n",
       "3  3.5\n",
       "4  4.5\n",
       "5  5.5"
      ]
     },
     "execution_count": 6,
     "metadata": {},
     "output_type": "execute_result"
    }
   ],
   "source": [
    "import pandas as pd\n",
    "df = pd.DataFrame({'A': [1, 2, 3, 4, 5, 6]})\n",
    "df.rolling(window=2).mean()"
   ]
  },
  {
   "cell_type": "code",
   "execution_count": 15,
   "id": "aaf92b58",
   "metadata": {},
   "outputs": [
    {
     "data": {
      "text/html": [
       "<div>\n",
       "<style scoped>\n",
       "    .dataframe tbody tr th:only-of-type {\n",
       "        vertical-align: middle;\n",
       "    }\n",
       "\n",
       "    .dataframe tbody tr th {\n",
       "        vertical-align: top;\n",
       "    }\n",
       "\n",
       "    .dataframe thead th {\n",
       "        text-align: right;\n",
       "    }\n",
       "</style>\n",
       "<table border=\"1\" class=\"dataframe\">\n",
       "  <thead>\n",
       "    <tr style=\"text-align: right;\">\n",
       "      <th></th>\n",
       "      <th>A</th>\n",
       "    </tr>\n",
       "  </thead>\n",
       "  <tbody>\n",
       "    <tr>\n",
       "      <th>0</th>\n",
       "      <td>1.0</td>\n",
       "    </tr>\n",
       "    <tr>\n",
       "      <th>1</th>\n",
       "      <td>3.0</td>\n",
       "    </tr>\n",
       "    <tr>\n",
       "      <th>2</th>\n",
       "      <td>6.0</td>\n",
       "    </tr>\n",
       "    <tr>\n",
       "      <th>3</th>\n",
       "      <td>10.0</td>\n",
       "    </tr>\n",
       "    <tr>\n",
       "      <th>4</th>\n",
       "      <td>14.0</td>\n",
       "    </tr>\n",
       "    <tr>\n",
       "      <th>5</th>\n",
       "      <td>18.0</td>\n",
       "    </tr>\n",
       "  </tbody>\n",
       "</table>\n",
       "</div>"
      ],
      "text/plain": [
       "      A\n",
       "0   1.0\n",
       "1   3.0\n",
       "2   6.0\n",
       "3  10.0\n",
       "4  14.0\n",
       "5  18.0"
      ]
     },
     "execution_count": 15,
     "metadata": {},
     "output_type": "execute_result"
    }
   ],
   "source": [
    "df.rolling(window=4,min_periods=1).sum()\n",
    "#min_periods=1 specifies the minimum number of observations required within the window to compute a result."
   ]
  },
  {
   "cell_type": "code",
   "execution_count": 17,
   "id": "cb6d755b",
   "metadata": {},
   "outputs": [
    {
     "data": {
      "text/html": [
       "<div>\n",
       "<style scoped>\n",
       "    .dataframe tbody tr th:only-of-type {\n",
       "        vertical-align: middle;\n",
       "    }\n",
       "\n",
       "    .dataframe tbody tr th {\n",
       "        vertical-align: top;\n",
       "    }\n",
       "\n",
       "    .dataframe thead th {\n",
       "        text-align: right;\n",
       "    }\n",
       "</style>\n",
       "<table border=\"1\" class=\"dataframe\">\n",
       "  <thead>\n",
       "    <tr style=\"text-align: right;\">\n",
       "      <th></th>\n",
       "      <th>A</th>\n",
       "      <th>expanding_sum</th>\n",
       "      <th>expanding_mean</th>\n",
       "    </tr>\n",
       "  </thead>\n",
       "  <tbody>\n",
       "    <tr>\n",
       "      <th>0</th>\n",
       "      <td>1</td>\n",
       "      <td>1.0</td>\n",
       "      <td>1.0</td>\n",
       "    </tr>\n",
       "    <tr>\n",
       "      <th>1</th>\n",
       "      <td>2</td>\n",
       "      <td>3.0</td>\n",
       "      <td>1.5</td>\n",
       "    </tr>\n",
       "    <tr>\n",
       "      <th>2</th>\n",
       "      <td>3</td>\n",
       "      <td>6.0</td>\n",
       "      <td>2.0</td>\n",
       "    </tr>\n",
       "    <tr>\n",
       "      <th>3</th>\n",
       "      <td>4</td>\n",
       "      <td>10.0</td>\n",
       "      <td>2.5</td>\n",
       "    </tr>\n",
       "    <tr>\n",
       "      <th>4</th>\n",
       "      <td>5</td>\n",
       "      <td>15.0</td>\n",
       "      <td>3.0</td>\n",
       "    </tr>\n",
       "    <tr>\n",
       "      <th>5</th>\n",
       "      <td>6</td>\n",
       "      <td>21.0</td>\n",
       "      <td>3.5</td>\n",
       "    </tr>\n",
       "  </tbody>\n",
       "</table>\n",
       "</div>"
      ],
      "text/plain": [
       "   A  expanding_sum  expanding_mean\n",
       "0  1            1.0             1.0\n",
       "1  2            3.0             1.5\n",
       "2  3            6.0             2.0\n",
       "3  4           10.0             2.5\n",
       "4  5           15.0             3.0\n",
       "5  6           21.0             3.5"
      ]
     },
     "execution_count": 17,
     "metadata": {},
     "output_type": "execute_result"
    }
   ],
   "source": [
    "#df.expanding() where the window grows from the start of the data to the current row, useful for cumulative statistics.\n",
    "df['expanding_sum']=df['A'].expanding().sum()\n",
    "df['expanding_mean']=df['A'].expanding().mean()\n",
    "df"
   ]
  },
  {
   "cell_type": "code",
   "execution_count": 18,
   "id": "953181c4",
   "metadata": {},
   "outputs": [
    {
     "name": "stdout",
     "output_type": "stream",
     "text": [
      "   A       ewm\n",
      "0  1  1.000000\n",
      "1  2  1.550000\n",
      "2  3  2.132890\n",
      "3  4  2.748020\n",
      "4  5  3.394502\n"
     ]
    }
   ],
   "source": [
    "import pandas as pd\n",
    "\n",
    "df = pd.DataFrame({'A': [1, 2, 3, 4, 5]})\n",
    "df['ewm'] = df['A'].ewm(span=10).mean()\n",
    "print(df)\n",
    "#The exponentially weighted average gives more importance to recent data points by using a higher weight (𝛼) for newer values and less weight (1 - α) for older ones."
   ]
  },
  {
   "cell_type": "markdown",
   "id": "7d013627",
   "metadata": {},
   "source": [
    "<h3>Apply Functions</h3>"
   ]
  },
  {
   "cell_type": "code",
   "execution_count": 21,
   "id": "0bb79af3",
   "metadata": {},
   "outputs": [
    {
     "name": "stdout",
     "output_type": "stream",
     "text": [
      "A    3\n",
      "B    7\n",
      "dtype: int64\n"
     ]
    }
   ],
   "source": [
    "#df.apply() applies a function along an axis (rows or columns) of the DataFrame.\n",
    "import pandas as pd\n",
    "df=pd.DataFrame({'A': [1, 2], 'B': [3, 4]})\n",
    "print(df.apply(sum,axis=0))"
   ]
  },
  {
   "cell_type": "markdown",
   "id": "e2e20021",
   "metadata": {},
   "source": [
    "<h2>axis=0 means \"along rows\" (or \"down the columns\").<br>\n",
    "\n",
    "axis=1 means \"along columns\" (or \"across the rows\").</h2>"
   ]
  },
  {
   "cell_type": "code",
   "execution_count": 23,
   "id": "f535850c",
   "metadata": {},
   "outputs": [
    {
     "name": "stdout",
     "output_type": "stream",
     "text": [
      "   A  B\n",
      "0  2  6\n",
      "1  4  8\n"
     ]
    }
   ],
   "source": [
    "def double(x):\n",
    "    return x * 2\n",
    "print(df.apply(double))"
   ]
  },
  {
   "cell_type": "code",
   "execution_count": 26,
   "id": "b4f2ba3f",
   "metadata": {},
   "outputs": [
    {
     "name": "stdout",
     "output_type": "stream",
     "text": [
      "   A  B\n",
      "0  2  6\n",
      "1  4  8\n"
     ]
    },
    {
     "data": {
      "text/html": [
       "<div>\n",
       "<style scoped>\n",
       "    .dataframe tbody tr th:only-of-type {\n",
       "        vertical-align: middle;\n",
       "    }\n",
       "\n",
       "    .dataframe tbody tr th {\n",
       "        vertical-align: top;\n",
       "    }\n",
       "\n",
       "    .dataframe thead th {\n",
       "        text-align: right;\n",
       "    }\n",
       "</style>\n",
       "<table border=\"1\" class=\"dataframe\">\n",
       "  <thead>\n",
       "    <tr style=\"text-align: right;\">\n",
       "      <th></th>\n",
       "      <th>A</th>\n",
       "      <th>B</th>\n",
       "    </tr>\n",
       "  </thead>\n",
       "  <tbody>\n",
       "    <tr>\n",
       "      <th>0</th>\n",
       "      <td>2</td>\n",
       "      <td>6</td>\n",
       "    </tr>\n",
       "    <tr>\n",
       "      <th>1</th>\n",
       "      <td>4</td>\n",
       "      <td>8</td>\n",
       "    </tr>\n",
       "  </tbody>\n",
       "</table>\n",
       "</div>"
      ],
      "text/plain": [
       "   A  B\n",
       "0  2  6\n",
       "1  4  8"
      ]
     },
     "execution_count": 26,
     "metadata": {},
     "output_type": "execute_result"
    }
   ],
   "source": [
    "#df.applymap() applies function element-wise to every value in data frame\n",
    "print(df.apply(lambda x:x*2))\n",
    "df.applymap(lambda x:x*2)"
   ]
  },
  {
   "cell_type": "code",
   "execution_count": 27,
   "id": "d543ace5",
   "metadata": {},
   "outputs": [
    {
     "name": "stdout",
     "output_type": "stream",
     "text": [
      "Apply sum (columns):\n",
      " A     6\n",
      "B    15\n",
      "dtype: int64\n",
      "\n",
      "Applymap double:\n",
      "    A   B\n",
      "0  2   8\n",
      "1  4  10\n",
      "2  6  12\n",
      "\n",
      "Pipe add 3:\n",
      "    A  B\n",
      "0  4  7\n",
      "1  5  8\n",
      "2  6  9\n",
      "\n",
      "Map rename:\n",
      " 0    X\n",
      "1    Y\n",
      "2    Z\n",
      "dtype: object\n",
      "\n",
      "Transform triple:\n",
      " 0    3\n",
      "1    6\n",
      "2    9\n",
      "Name: A, dtype: int64\n"
     ]
    }
   ],
   "source": [
    "import pandas as pd\n",
    "\n",
    "# Create a DataFrame and Series\n",
    "df = pd.DataFrame({'A': [1, 2, 3], 'B': [4, 5, 6]})\n",
    "s = pd.Series(['x', 'y', 'z'])\n",
    "\n",
    "# Applying Functions\n",
    "print(\"Apply sum (columns):\\n\", df.apply(sum))\n",
    "print(\"\\nApplymap double:\\n\", df.applymap(lambda x: x * 2))\n",
    "print(\"\\nPipe add 3:\\n\", df.pipe(lambda df: df + 3))\n",
    "print(\"\\nMap rename:\\n\", s.map({'x': 'X', 'y': 'Y', 'z': 'Z'}))\n",
    "print(\"\\nTransform triple:\\n\", df['A'].transform(lambda x: x * 3))"
   ]
  }
 ],
 "metadata": {
  "kernelspec": {
   "display_name": "Python 3 (ipykernel)",
   "language": "python",
   "name": "python3"
  },
  "language_info": {
   "codemirror_mode": {
    "name": "ipython",
    "version": 3
   },
   "file_extension": ".py",
   "mimetype": "text/x-python",
   "name": "python",
   "nbconvert_exporter": "python",
   "pygments_lexer": "ipython3",
   "version": "3.11.5"
  }
 },
 "nbformat": 4,
 "nbformat_minor": 5
}
